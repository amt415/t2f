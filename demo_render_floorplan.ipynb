{
 "cells": [
  {
   "cell_type": "code",
   "execution_count": 1,
   "outputs": [
    {
     "name": "stderr",
     "output_type": "stream",
     "text": [
      "Special tokens have been added in the vocabulary, make sure the associated word embeddings are fine-tuned or trained.\n"
     ]
    }
   ],
   "source": [
    "import torch\n",
    "from transformers import T5Tokenizer, T5ForConditionalGeneration, Trainer, default_data_collator, \\\n",
    "    DataCollatorForLanguageModeling\n",
    "from datasets import load_dataset\n",
    "from arguments import DataTrainingArguments, ModelArguments, TrainingArguments\n",
    "from collections import defaultdict\n",
    "import cv2\n",
    "import numpy as np\n",
    "import random\n",
    "import matplotlib.pyplot as plt\n",
    "from utils import color_idx, room_idx\n",
    "\n",
    "# Initialize the tokenizer\n",
    "tokenizer = T5Tokenizer.from_pretrained('t5-base', legacy=True)\n",
    "\n",
    "# Initialize the data arguments\n",
    "data_args = DataTrainingArguments(\n",
    "    datasets='floorplan',\n",
    "    data_dir=None,\n",
    "    train_split='train',\n",
    "    max_seq_length=512,\n",
    "    max_output_seq_length=512,\n",
    "    max_seq_length_eval=512,\n",
    "    max_output_seq_length_eval=512,\n",
    "    exp='full',\n",
    "    boundary_in_where='Encoder'\n",
    ")"
   ],
   "metadata": {
    "collapsed": false
   }
  },
  {
   "cell_type": "code",
   "execution_count": 12,
   "outputs": [],
   "source": [
    "model = T5ForConditionalGeneration.from_pretrained(\n",
    "    'experiments/floorplan-t5-base-full-ep2-len512-b4-train-original-baseline/episode0')"
   ],
   "metadata": {
    "collapsed": false
   }
  },
  {
   "cell_type": "code",
   "execution_count": 13,
   "outputs": [
    {
     "name": "stdout",
     "output_type": "stream",
     "text": [
      "Output sentence: [ master room | x coordinate = 178 | y coordinate = 178 | height = 63 | width = 47 ] [ bathroom 2 | x coordinate = 100 | y coordinate = 143 | height = 45 | width = 18 ] [ common room 1 | x coordinate = 163 | y coordinate = 76 | height = 62 | width = 42 ] [ common room 2 | x coordinate = 100 | y coordinate = 173 | height = 45 | width = 37 ] [ living room | x coordinate = 136 | y coordinate = 120 | height = 116 | width = 97 ] [ bathroom 1 | x coordinate = 142 | y coordinate = 187 | height = 32 | width = 30 ] [ balcony | x coordinate = 204 | y coordinate = 122 | height = 11 | width = 57 ] [ kitchen | x coordinate = 74 | y coordinate = 83 | height = 54 | width = 23 ]\n"
     ]
    }
   ],
   "source": [
    "# Example usage\n",
    "input_sentence = \"Balcony 1 is about 8 foot X 2 foot.  This is located right off of the kitchen. Balcony 2 is about 10 foot X 3 foot.  This is facing north of the house. The bathroom is about 8 foot X 6 foot.  It is located between the living room and the kitchen. Common room 1 is about 10 foot X 12 foot.  The common rooms are located diagonal from each other. Common room 2 is about 10 foot X 10 foot.  The common rooms are located diagonal from each other. The kitchen is a 10 foot X 10 foot room.  It looks like it is opened up to the living room. The living room is located on the east side of the house.  It is shaped like a \\\"T\\\" and it's the biggest room.  It is approximately 14 feet X 32 feet.  Each room that you come out of you will enter the living room. The master is about 10 feet X 15 feet.  It is located far west of the house.It is a rectangle shape.\"\n",
    "input_ids = tokenizer(input_sentence, return_tensors=\"pt\").input_ids\n",
    "\n",
    "# Generate output\n",
    "output_ids = model.generate(input_ids, max_new_tokens=512)\n",
    "output_sentence = tokenizer.decode(output_ids[0], skip_special_tokens=True)\n",
    "print(\"Output sentence:\", output_sentence)"
   ],
   "metadata": {
    "collapsed": false
   }
  },
  {
   "cell_type": "code",
   "execution_count": 14,
   "outputs": [
    {
     "data": {
      "text/plain": "T5ForConditionalGeneration(\n  (shared): Embedding(32128, 768)\n  (encoder): T5Stack(\n    (embed_tokens): Embedding(32128, 768)\n    (block): ModuleList(\n      (0): T5Block(\n        (layer): ModuleList(\n          (0): T5LayerSelfAttention(\n            (SelfAttention): T5Attention(\n              (q): Linear(in_features=768, out_features=768, bias=False)\n              (k): Linear(in_features=768, out_features=768, bias=False)\n              (v): Linear(in_features=768, out_features=768, bias=False)\n              (o): Linear(in_features=768, out_features=768, bias=False)\n              (relative_attention_bias): Embedding(32, 12)\n            )\n            (layer_norm): T5LayerNorm()\n            (dropout): Dropout(p=0.1, inplace=False)\n          )\n          (1): T5LayerFF(\n            (DenseReluDense): T5DenseActDense(\n              (wi): Linear(in_features=768, out_features=3072, bias=False)\n              (wo): Linear(in_features=3072, out_features=768, bias=False)\n              (dropout): Dropout(p=0.1, inplace=False)\n              (act): ReLU()\n            )\n            (layer_norm): T5LayerNorm()\n            (dropout): Dropout(p=0.1, inplace=False)\n          )\n        )\n      )\n      (1-11): 11 x T5Block(\n        (layer): ModuleList(\n          (0): T5LayerSelfAttention(\n            (SelfAttention): T5Attention(\n              (q): Linear(in_features=768, out_features=768, bias=False)\n              (k): Linear(in_features=768, out_features=768, bias=False)\n              (v): Linear(in_features=768, out_features=768, bias=False)\n              (o): Linear(in_features=768, out_features=768, bias=False)\n            )\n            (layer_norm): T5LayerNorm()\n            (dropout): Dropout(p=0.1, inplace=False)\n          )\n          (1): T5LayerFF(\n            (DenseReluDense): T5DenseActDense(\n              (wi): Linear(in_features=768, out_features=3072, bias=False)\n              (wo): Linear(in_features=3072, out_features=768, bias=False)\n              (dropout): Dropout(p=0.1, inplace=False)\n              (act): ReLU()\n            )\n            (layer_norm): T5LayerNorm()\n            (dropout): Dropout(p=0.1, inplace=False)\n          )\n        )\n      )\n    )\n    (final_layer_norm): T5LayerNorm()\n    (dropout): Dropout(p=0.1, inplace=False)\n  )\n  (decoder): T5Stack(\n    (embed_tokens): Embedding(32128, 768)\n    (block): ModuleList(\n      (0): T5Block(\n        (layer): ModuleList(\n          (0): T5LayerSelfAttention(\n            (SelfAttention): T5Attention(\n              (q): Linear(in_features=768, out_features=768, bias=False)\n              (k): Linear(in_features=768, out_features=768, bias=False)\n              (v): Linear(in_features=768, out_features=768, bias=False)\n              (o): Linear(in_features=768, out_features=768, bias=False)\n              (relative_attention_bias): Embedding(32, 12)\n            )\n            (layer_norm): T5LayerNorm()\n            (dropout): Dropout(p=0.1, inplace=False)\n          )\n          (1): T5LayerCrossAttention(\n            (EncDecAttention): T5Attention(\n              (q): Linear(in_features=768, out_features=768, bias=False)\n              (k): Linear(in_features=768, out_features=768, bias=False)\n              (v): Linear(in_features=768, out_features=768, bias=False)\n              (o): Linear(in_features=768, out_features=768, bias=False)\n            )\n            (layer_norm): T5LayerNorm()\n            (dropout): Dropout(p=0.1, inplace=False)\n          )\n          (2): T5LayerFF(\n            (DenseReluDense): T5DenseActDense(\n              (wi): Linear(in_features=768, out_features=3072, bias=False)\n              (wo): Linear(in_features=3072, out_features=768, bias=False)\n              (dropout): Dropout(p=0.1, inplace=False)\n              (act): ReLU()\n            )\n            (layer_norm): T5LayerNorm()\n            (dropout): Dropout(p=0.1, inplace=False)\n          )\n        )\n      )\n      (1-11): 11 x T5Block(\n        (layer): ModuleList(\n          (0): T5LayerSelfAttention(\n            (SelfAttention): T5Attention(\n              (q): Linear(in_features=768, out_features=768, bias=False)\n              (k): Linear(in_features=768, out_features=768, bias=False)\n              (v): Linear(in_features=768, out_features=768, bias=False)\n              (o): Linear(in_features=768, out_features=768, bias=False)\n            )\n            (layer_norm): T5LayerNorm()\n            (dropout): Dropout(p=0.1, inplace=False)\n          )\n          (1): T5LayerCrossAttention(\n            (EncDecAttention): T5Attention(\n              (q): Linear(in_features=768, out_features=768, bias=False)\n              (k): Linear(in_features=768, out_features=768, bias=False)\n              (v): Linear(in_features=768, out_features=768, bias=False)\n              (o): Linear(in_features=768, out_features=768, bias=False)\n            )\n            (layer_norm): T5LayerNorm()\n            (dropout): Dropout(p=0.1, inplace=False)\n          )\n          (2): T5LayerFF(\n            (DenseReluDense): T5DenseActDense(\n              (wi): Linear(in_features=768, out_features=3072, bias=False)\n              (wo): Linear(in_features=3072, out_features=768, bias=False)\n              (dropout): Dropout(p=0.1, inplace=False)\n              (act): ReLU()\n            )\n            (layer_norm): T5LayerNorm()\n            (dropout): Dropout(p=0.1, inplace=False)\n          )\n        )\n      )\n    )\n    (final_layer_norm): T5LayerNorm()\n    (dropout): Dropout(p=0.1, inplace=False)\n  )\n  (lm_head): Linear(in_features=768, out_features=32128, bias=False)\n)"
     },
     "execution_count": 14,
     "metadata": {},
     "output_type": "execute_result"
    }
   ],
   "source": [
    "if torch.cuda.is_available():\n",
    "    device = torch.device('cuda')\n",
    "else:\n",
    "    device = torch.device('cpu')\n",
    "\n",
    "model.to(device)"
   ],
   "metadata": {
    "collapsed": false
   }
  },
  {
   "cell_type": "code",
   "execution_count": 15,
   "outputs": [
    {
     "name": "stderr",
     "output_type": "stream",
     "text": [
      "WARNING:root:Max sequence length is 512 but the longest input sequence is 804 long\n"
     ]
    }
   ],
   "source": [
    "from datasets import load_dataset\n",
    "\n",
    "test_dataset = load_dataset('floorplan', data_args, split='finetune',\n",
    "                            max_input_length=data_args.max_seq_length,\n",
    "                            max_output_length=data_args.max_output_seq_length,\n",
    "                            tokenizer=tokenizer, seed=1)"
   ],
   "metadata": {
    "collapsed": false
   }
  },
  {
   "cell_type": "code",
   "execution_count": 16,
   "outputs": [],
   "source": [
    "# test_dataset.get_example(0)"
   ],
   "metadata": {
    "collapsed": false
   }
  },
  {
   "cell_type": "code",
   "execution_count": 17,
   "outputs": [],
   "source": [
    "from torch.utils.data import DataLoader\n",
    "from tqdm import tqdm\n",
    "\n",
    "batch_size = 1\n",
    "test_data_loader = DataLoader(test_dataset, batch_size=batch_size, shuffle=False, collate_fn=default_data_collator)\n",
    "\n",
    "\n",
    "def generate_output_sentences():\n",
    "    for i, inputs in tqdm(enumerate(test_data_loader), total=len(test_data_loader)):\n",
    "        predictions = model.generate(\n",
    "            inputs['input_ids'].to(device),\n",
    "            max_length=data_args.max_output_seq_length_eval,\n",
    "            num_beams=5,\n",
    "            decoder_input_ids=inputs['decoder_boundary_ids']\n",
    "        )\n",
    "        for j, (input_ids, label_ids, prediction) in enumerate(\n",
    "                zip(inputs['input_ids'], inputs['labels'], predictions)):\n",
    "            current_id = i * batch_size + j\n",
    "            example = test_dataset.get_example(current_id)\n",
    "            output_sentence = tokenizer.decode(prediction, skip_special_tokens=True, clean_up_tokenization_spaces=False)\n",
    "            yield example, output_sentence, None"
   ],
   "metadata": {
    "collapsed": false
   }
  },
  {
   "cell_type": "code",
   "execution_count": 18,
   "outputs": [
    {
     "data": {
      "text/plain": "\"Balcony is located at South side of House . Balcony is located at Rear side of Living Room and Master Room . The Approximate size of Balcony is 12' x 4' . Bathroom 1 is located at West side of House . Bathroom 1 is located Left to Master Room and Rear side of Common Room 2 . The Approximate size of Bathroom 1 is 8' x 6' . Bathroom 2 is located at North West Side of House . Bathroom 2 is located between Kitchen and Common Room 2 and in front of Living Room . The Approximate size of Bathroom 2 is 6' x 8' . Common Room 1 is located at North East Corner of House . Common Room 1 is located Right to Living Room and Kitchen . The Approximate size of Common Room 1 is 10' x 14' . Common Room 2 is located at North West Corner of House . Common Room 2 is located Left to Bathroom 2 and Living Room and in front of Bathroom 1 and Master Room . The Approximate size of Common Room 2 is 8' x 14' . Kitchen is located at North East side of House . Kitchen is located between Common Room 1 and Bathroom 2 and in front of Living Room . The Approximate size of Kitchen is 8' x 8' . Living Room is located at East side of House . Living Room is located Right to Master Room and Common Room 2 , Rear side of Bathroom 2 and Kitchen and in front of Balcony . The Approximate size of Living Room is 14' x 22' . Master Room is located at South West Corner of House . Master Room is located Left to Living Room and between balcony and Bathroom 1 . The Approximate size of Master Room is 12' x 18' .\""
     },
     "execution_count": 18,
     "metadata": {},
     "output_type": "execute_result"
    }
   ],
   "source": [
    "' '.join(test_dataset.get_example(100).tokens)"
   ],
   "metadata": {
    "collapsed": false
   }
  },
  {
   "cell_type": "code",
   "execution_count": 32,
   "outputs": [],
   "source": [
    "def generate_output_sentence(idx):\n",
    "    example = test_dataset.get_example(idx)\n",
    "    input_sentence = ' '.join(example.tokens)\n",
    "    input_ids = tokenizer(input_sentence, return_tensors=\"pt\").input_ids\n",
    "    output_ids = model.generate(input_ids, max_new_tokens=512)\n",
    "    output_sentence = tokenizer.decode(output_ids[0], skip_special_tokens=True)\n",
    "    return example, output_sentence, None"
   ],
   "metadata": {
    "collapsed": false
   }
  },
  {
   "cell_type": "code",
   "execution_count": 33,
   "outputs": [],
   "source": [
    "def generate_one_output_sentence():\n",
    "    # Get the first batch from the test_data_loader\n",
    "    inputs = next(iter(test_data_loader))\n",
    "\n",
    "    # Generate prediction\n",
    "    predictions = model.generate(\n",
    "        inputs['input_ids'].to(device),\n",
    "        max_length=data_args.max_output_seq_length_eval,\n",
    "        num_beams=5,\n",
    "        decoder_input_ids=inputs['decoder_boundary_ids']\n",
    "    )\n",
    "\n",
    "    # Get the first prediction\n",
    "    prediction = predictions[0]\n",
    "\n",
    "    # Get the first example\n",
    "    example = inputs\n",
    "\n",
    "    # Decode the prediction to get the output sentence\n",
    "    output_sentence = tokenizer.decode(prediction, skip_special_tokens=True, clean_up_tokenization_spaces=False)\n",
    "\n",
    "    return example, output_sentence, None"
   ],
   "metadata": {
    "collapsed": false
   }
  },
  {
   "cell_type": "code",
   "execution_count": 34,
   "outputs": [
    {
     "name": "stdout",
     "output_type": "stream",
     "text": [
      "the bathroom is accessible from the living room and is between the master room and common room 1 . the bathroom is approximately 6ft by 3 ft . common room 1 is accessible from the living room and is between the bathroom and common room 2 . common room 1 is approximately 12 ft by 10ft . common room 2 is accessible from the living room and is next to common room 1 . common room 2 is approximately 11ft by 6ft . the kitchen is accessible from the living room and has an entrance to its right . the kitchen is approximately 5 ft by 12 ft . the living room is open to the kitchen , master room , bathroom and common room 1 and 2 . the living room provides an entrance next to the kitchen and is approximately 22ft by 22ft . the master room is accessible from the living room and is next to the bathroom . the master room is approximately 12 ft by 18 ft .\n",
      "Output sentence: [ master room | x coordinate = 178 | y coordinate = 178 | height = 63 | width = 47 ] [ bathroom 2 | x coordinate = 100 | y coordinate = 143 | height = 45 | width = 18 ] [ common room 1 | x coordinate = 163 | y coordinate = 76 | height = 62 | width = 42 ] [ common room 2 | x coordinate = 100 | y coordinate = 173 | height = 45 | width = 37 ] [ living room | x coordinate = 136 | y coordinate = 120 | height = 116 | width = 97 ] [ bathroom 1 | x coordinate = 142 | y coordinate = 187 | height = 32 | width = 30 ] [ balcony | x coordinate = 204 | y coordinate = 122 | height = 11 | width = 57 ] [ kitchen | x coordinate = 74 | y coordinate = 83 | height = 54 | width = 23 ]\n"
     ]
    }
   ],
   "source": [
    "example, output_sentence, predicted_index = generate_output_sentence(51)\n",
    "print(test_dataset.input_format.format_input(example, multitask=False))\n",
    "print(\"Output sentence:\", output_sentence)"
   ],
   "metadata": {
    "collapsed": false
   }
  },
  {
   "cell_type": "code",
   "execution_count": 35,
   "outputs": [],
   "source": [
    "gt_boxes = defaultdict(list)\n",
    "for room in example.rooms:\n",
    "    gt_x, gt_y, gt_h, gt_w = room.x, room.y, room.h, room.w\n",
    "    gt_box = [\n",
    "        [int(gt_x - gt_h / 2), int(gt_y - gt_w / 2)], [int(gt_x + gt_h / 2), int(gt_y - gt_w / 2)],\n",
    "        [int(gt_x - gt_h / 2), int(gt_y + gt_w / 2)], [int(gt_x + gt_h / 2), int(gt_y + gt_w / 2)]\n",
    "    ]\n",
    "    gt_boxes[room.type] = gt_box"
   ],
   "metadata": {
    "collapsed": false
   }
  },
  {
   "cell_type": "code",
   "execution_count": 36,
   "outputs": [],
   "source": [
    "res = test_dataset.output_format.run_inference(example, output_sentence[51:], predicted_index)\n",
    "predicted_rooms_by_name, predicted_rooms, raw_predicted_relations, wrong_reconstruction, format_error, label_error = res"
   ],
   "metadata": {
    "collapsed": false
   }
  },
  {
   "cell_type": "code",
   "execution_count": 37,
   "outputs": [],
   "source": [
    "predicted_attribute = defaultdict()\n",
    "for attribute_tuple in raw_predicted_relations:\n",
    "    attribute_type,value, room_tuple, room_type = attribute_tuple\n",
    "    if room_type not in predicted_attribute:\n",
    "        predicted_attribute[room_type] = defaultdict()\n",
    "    try:\n",
    "        value = int(value)\n",
    "    except:\n",
    "        value = 128\n",
    "    predicted_attribute[room_type][attribute_type] = value"
   ],
   "metadata": {
    "collapsed": false
   }
  },
  {
   "cell_type": "code",
   "execution_count": 38,
   "outputs": [],
   "source": [
    "# TODO: examine the predicted_attribute patterns\n",
    "correct_attributes = ['x coordinate', 'y coordinate', 'height', 'width']\n",
    "wrong_room = []\n",
    "for room_type in predicted_attribute:\n",
    "    if set(list(predicted_attribute[room_type].keys())) != set(correct_attributes):\n",
    "        print('wrong output format:')\n",
    "        print(predicted_attribute[room_type])\n",
    "        wrong_room.append(room_type)\n",
    "for wrong_r in wrong_room:\n",
    "    predicted_attribute.pop(wrong_r)"
   ],
   "metadata": {
    "collapsed": false
   }
  },
  {
   "cell_type": "code",
   "execution_count": 39,
   "outputs": [],
   "source": [
    "all_gt_rooms = [room.type for room in example.rooms]\n",
    "predicted_boxes = defaultdict()\n",
    "for room in predicted_attribute:\n",
    "    predicted_boxes[room] = [\n",
    "        [int(predicted_attribute[room]['x coordinate'] - predicted_attribute[room]['height'] / 2),\n",
    "         int(predicted_attribute[room]['y coordinate'] - predicted_attribute[room]['width'] / 2)],\n",
    "        [int(predicted_attribute[room]['x coordinate'] + predicted_attribute[room]['height'] / 2),\n",
    "         int(predicted_attribute[room]['y coordinate'] - predicted_attribute[room]['width'] / 2)],\n",
    "        [int(predicted_attribute[room]['x coordinate'] - predicted_attribute[room]['height'] / 2),\n",
    "         int(predicted_attribute[room]['y coordinate'] + predicted_attribute[room]['width'] / 2)],\n",
    "        [int(predicted_attribute[room]['x coordinate'] + predicted_attribute[room]['height'] / 2),\n",
    "         int(predicted_attribute[room]['y coordinate'] + predicted_attribute[room]['width'] / 2)]\n",
    "    ]\n"
   ],
   "metadata": {
    "collapsed": false
   }
  },
  {
   "cell_type": "code",
   "execution_count": 40,
   "outputs": [],
   "source": [
    "for room in gt_boxes:\n",
    "    y_min = gt_boxes[room][0][1]\n",
    "    x_min = gt_boxes[room][0][0]\n",
    "    y_max = gt_boxes[room][3][1]\n",
    "    x_max = gt_boxes[room][3][0]\n",
    "    gt_boxes[room] = (y_min, x_min, y_max, x_max)"
   ],
   "metadata": {
    "collapsed": false
   }
  },
  {
   "cell_type": "code",
   "execution_count": 41,
   "outputs": [],
   "source": [
    "for room in predicted_boxes:\n",
    "    y_min = predicted_boxes[room][0][1]\n",
    "    x_min = predicted_boxes[room][0][0]\n",
    "    y_max = predicted_boxes[room][3][1]\n",
    "    x_max = predicted_boxes[room][3][0]\n",
    "    predicted_boxes[room] = (y_min, x_min, y_max, x_max)"
   ],
   "metadata": {
    "collapsed": false
   }
  },
  {
   "cell_type": "code",
   "execution_count": 42,
   "outputs": [],
   "source": [
    "# render_image_(example, predicted_boxes, all_gt_rooms, gt_boxes, output_dir)"
   ],
   "metadata": {
    "collapsed": false
   }
  },
  {
   "cell_type": "code",
   "execution_count": 43,
   "outputs": [],
   "source": [
    "def render_image_(example, predicted_boxes, all_gt_rooms, gt_boxes):\n",
    "    image_height = 256\n",
    "    image_width = 256\n",
    "    number_of_color_channels = 3\n",
    "    background_color = (255, 255, 255)\n",
    "    gt_image = np.full((image_height, image_width, number_of_color_channels), background_color, dtype=np.uint8)\n",
    "    predicted_image = np.full((image_height, image_width, number_of_color_channels), background_color, dtype=np.uint8)\n",
    "    boundary_color = [0, 0, 0]\n",
    "\n",
    "    left_boundary = int(example.boundary_tokens[1])\n",
    "\n",
    "    living = defaultdict()\n",
    "    common = defaultdict()\n",
    "    master = defaultdict()\n",
    "    balcony = defaultdict()\n",
    "    bathroom = defaultdict()\n",
    "    kitchen = defaultdict()\n",
    "    storage = defaultdict()\n",
    "    dining = defaultdict()\n",
    "    for room in predicted_boxes:\n",
    "        if room.startswith('living'):\n",
    "            living[room] = predicted_boxes[room]\n",
    "        elif room.startswith('common'):\n",
    "            common[room] = predicted_boxes[room]\n",
    "        elif room.startswith('master'):\n",
    "            master[room] = predicted_boxes[room]\n",
    "        elif room.startswith('balcony'):\n",
    "            balcony[room] = predicted_boxes[room]\n",
    "        elif room.startswith('bathroom'):\n",
    "            bathroom[room] = predicted_boxes[room]\n",
    "        elif room.startswith('kitchen'):\n",
    "            kitchen[room] = predicted_boxes[room]\n",
    "        elif room.startswith('storage'):\n",
    "            storage[room] = predicted_boxes[room]\n",
    "        elif room.startswith('dining'):\n",
    "            dining[room] = predicted_boxes[room]\n",
    "    room_type_list = [living, common, master, balcony, bathroom, kitchen, storage, dining]\n",
    "    for room_type in room_type_list:\n",
    "        for room in room_type:\n",
    "            left_top_pr = (room_type[room][0], room_type[room][1])\n",
    "            right_bt_pr = (room_type[room][2], room_type[room][3])\n",
    "\n",
    "            color = color_idx[room_idx[room]]\n",
    "            # draw room on predicted image\n",
    "            cv2.rectangle(predicted_image, left_top_pr, right_bt_pr, color, -1)\n",
    "\n",
    "    # for boundary_pixel in example.boundary:\n",
    "    #     predicted_image[boundary_pixel[0], boundary_pixel[1]] = boundary_color\n",
    "\n",
    "    return predicted_image"
   ],
   "metadata": {
    "collapsed": false
   }
  },
  {
   "cell_type": "code",
   "execution_count": 44,
   "outputs": [],
   "source": [
    "pre_image = render_image_(example, gt_boxes, all_gt_rooms, gt_boxes)"
   ],
   "metadata": {
    "collapsed": false
   }
  },
  {
   "cell_type": "code",
   "execution_count": 45,
   "outputs": [],
   "source": [
    "import matplotlib.patches as mpatches\n",
    "\n",
    "def render_image_with_legend(example, predicted_boxes, all_gt_rooms, gt_boxes):\n",
    "    # Render the image as before\n",
    "    image = render_image_(example, predicted_boxes, all_gt_rooms, gt_boxes)\n",
    "\n",
    "    # Create a figure and a set of subplots\n",
    "    fig, ax = plt.subplots()\n",
    "\n",
    "    # Display the image\n",
    "    ax.imshow(image)\n",
    "\n",
    "    # Create a legend\n",
    "    patches = [mpatches.Patch(color=np.array(color_idx[room_idx[room]])/255., label=room) for room in all_gt_rooms]\n",
    "    plt.legend(handles=patches, bbox_to_anchor=(1.05, 1), loc='upper left', borderaxespad=0.)\n",
    "\n",
    "    # Show the plot\n",
    "    plt.show()"
   ],
   "metadata": {
    "collapsed": false
   }
  },
  {
   "cell_type": "code",
   "execution_count": 46,
   "outputs": [
    {
     "data": {
      "text/plain": "<Figure size 640x480 with 1 Axes>",
      "image/png": "[encoded data removed]"
     },
     "metadata": {},
     "output_type": "display_data"
    }
   ],
   "source": [
    "render_image_with_legend(example, gt_boxes, all_gt_rooms, gt_boxes)"
   ],
   "metadata": {
    "collapsed": false
   }
  },
  {
   "cell_type": "code",
   "execution_count": 47,
   "outputs": [
    {
     "data": {
      "text/plain": "<Figure size 640x480 with 1 Axes>",
      "image/png": "[encoded data removed]"
     },
     "metadata": {},
     "output_type": "display_data"
    }
   ],
   "source": [
    "render_image_with_legend(example, predicted_boxes, all_gt_rooms, gt_boxes)"
   ],
   "metadata": {
    "collapsed": false
   }
  },
  {
   "cell_type": "code",
   "execution_count": null,
   "outputs": [],
   "source": [],
   "metadata": {
    "collapsed": false
   }
  }
 ],
 "metadata": {
  "kernelspec": {
   "display_name": "Python 3",
   "language": "python",
   "name": "python3"
  },
  "language_info": {
   "codemirror_mode": {
    "name": "ipython",
    "version": 2
   },
   "file_extension": ".py",
   "mimetype": "text/x-python",
   "name": "python",
   "nbconvert_exporter": "python",
   "pygments_lexer": "ipython2",
   "version": "2.7.6"
  }
 },
 "nbformat": 4,
 "nbformat_minor": 0
}
