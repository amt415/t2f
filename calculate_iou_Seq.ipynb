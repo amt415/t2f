{
 "cells": [
  {
   "cell_type": "code",
   "execution_count": 1,
   "metadata": {},
   "outputs": [],
   "source": [
    "import os\n",
    "import cv2\n",
    "from tqdm import tqdm\n",
    "from scipy.spatial import distance\n",
    "import numpy as np\n",
    "import matplotlib.pyplot as plt\n",
    "import warnings\n",
    "from sklearn.metrics import jaccard_score\n",
    "from collections import defaultdict"
   ]
  },
  {
   "cell_type": "code",
   "execution_count": 2,
   "metadata": {},
   "outputs": [],
   "source": [
    "from calculate_iou import cluster_pixel_values, generate_mask, generate_one_dim_mask, find_central_point, calculate_iou"
   ]
  },
  {
   "cell_type": "code",
   "execution_count": 3,
   "metadata": {},
   "outputs": [],
   "source": [
    "# define rooms types and their corresponding colors\n",
    "last_5k_type = ['255,255,255', '0,0,0', '0,0,255', '170,232,238', '128,128,240', '230,216,173', '0,215,255', '0,165,255', '35,142,107', '221,160,221', '0,255,255', '214,112,218']\n",
    "last_dict = dict.fromkeys(last_5k_type)\n",
    "for key in last_dict.keys():\n",
    "    last_dict[key] = [int(val) for val in key.split(',')]"
   ]
  },
  {
   "cell_type": "code",
   "execution_count": 4,
   "metadata": {},
   "outputs": [],
   "source": [
    "# load all images\n",
    "dir_paths = []\n",
    "for root, dirs, files in os.walk('/home/sicong/min_max_Floorplan_Generation_Baseline/experiments/floorplan-t5-base-finetune-ep20-len512-b12-train-original-baseline/episode0/draw/'):\n",
    "    dir_paths.extend(files)"
   ]
  },
  {
   "cell_type": "code",
   "execution_count": 10,
   "metadata": {},
   "outputs": [
    {
     "name": "stderr",
     "output_type": "stream",
     "text": [
      "100%|██████████| 100/100 [25:51<00:00, 15.51s/it]\n"
     ]
    }
   ],
   "source": [
    "# calculate IoU\n",
    "Macro_IoUs = []\n",
    "Micro_IoUs = []\n",
    "for img_id in tqdm(dir_paths):\n",
    "    gt_image = cv2.imread(os.path.join(\"/home/sicong/imagen-sicong/dataset/imgs/\",f\"{img_id}\"))\n",
    "    pred_image = cv2.imread(os.path.join(f\"/home/sicong/min_max_Floorplan_Generation_Baseline/experiments/floorplan-t5-base-finetune-ep20-len512-b12-train-original-baseline/episode0/draw/{img_id}\"))\n",
    "\n",
    "    new_image = cluster_pixel_values(pred_image, last_dict)\n",
    "\n",
    "    dict_pred_mask = generate_mask(new_image, last_dict)\n",
    "    dict_gt_mask = generate_mask(gt_image, last_dict)\n",
    "\n",
    "    one_dim_pred_mask = generate_one_dim_mask(dict_pred_mask)\n",
    "    one_dim_gt_mask = generate_one_dim_mask(dict_gt_mask)\n",
    "\n",
    "    rooms = ['170,232,238', '128,128,240', '230,216,173', '0,215,255', '0,165,255', '35,142,107', '221,160,221', '0,255,255', '214,112,218']\n",
    "    #IoUs, max_key = find_central_point(one_dim_gt_mask, one_dim_pred_mask)\n",
    "    macro_iou, micro_iou = calculate_iou(rooms, dict_gt_mask, dict_pred_mask, (0,0))\n",
    "    # print(macro_iou, micro_iou)\n",
    "    Macro_IoUs.append(macro_iou)\n",
    "    Micro_IoUs.append(micro_iou)"
   ]
  },
  {
   "cell_type": "code",
   "execution_count": 11,
   "metadata": {},
   "outputs": [
    {
     "name": "stdout",
     "output_type": "stream",
     "text": [
      "Macro IoU: 0.5510412315010548\n",
      "Micro IoU: 0.5515657461112401\n"
     ]
    }
   ],
   "source": [
    "print(f\"Macro IoU: {np.mean(Macro_IoUs)}\")\n",
    "print(f\"Micro IoU: {np.mean(Micro_IoUs)}\")"
   ]
  },
  {
   "cell_type": "code",
   "execution_count": null,
   "metadata": {},
   "outputs": [],
   "source": []
  }
 ],
 "metadata": {
  "kernelspec": {
   "display_name": "apex",
   "language": "python",
   "name": "python3"
  },
  "language_info": {
   "codemirror_mode": {
    "name": "ipython",
    "version": 3
   },
   "file_extension": ".py",
   "mimetype": "text/x-python",
   "name": "python",
   "nbconvert_exporter": "python",
   "pygments_lexer": "ipython3",
   "version": "3.7.15 (default, Nov  7 2022, 22:00:21) \n[GCC 11.2.0]"
  },
  "orig_nbformat": 4,
  "vscode": {
   "interpreter": {
    "hash": "d6781b4406bf3e0776b57b4bd7f389d531766a5a8e8ad506f35f7cbc1e475358"
   }
  }
 },
 "nbformat": 4,
 "nbformat_minor": 2
}
