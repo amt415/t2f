{
  "nbformat": 4,
  "nbformat_minor": 0,
  "metadata": {
    "colab": {
      "provenance": [],
      "gpuType": "T4"
    },
    "kernelspec": {
      "name": "python3",
      "display_name": "Python 3"
    },
    "language_info": {
      "name": "python"
    },
    "accelerator": "GPU",
    "widgets": {
      "application/vnd.jupyter.widget-state+json": {
        "5effbc31852b463ba74ed7dd3c471bbd": {
          "model_module": "@jupyter-widgets/controls",
          "model_name": "HBoxModel",
          "model_module_version": "1.5.0",
          "state": {
            "_dom_classes": [],
            "_model_module": "@jupyter-widgets/controls",
            "_model_module_version": "1.5.0",
            "_model_name": "HBoxModel",
            "_view_count": null,
            "_view_module": "@jupyter-widgets/controls",
            "_view_module_version": "1.5.0",
            "_view_name": "HBoxView",
            "box_style": "",
            "children": [
              "IPY_MODEL_c0466c990e2e496c9b19fb8637d9171d",
              "IPY_MODEL_b23bddd75bb2417a87ff2379aaee1af1",
              "IPY_MODEL_42c71b068f3446ad9ac985e503f40825"
            ],
            "layout": "IPY_MODEL_0a4579d59026487ea0af9f7f7ceb7c2d"
          }
        },
        "c0466c990e2e496c9b19fb8637d9171d": {
          "model_module": "@jupyter-widgets/controls",
          "model_name": "HTMLModel",
          "model_module_version": "1.5.0",
          "state": {
            "_dom_classes": [],
            "_model_module": "@jupyter-widgets/controls",
            "_model_module_version": "1.5.0",
            "_model_name": "HTMLModel",
            "_view_count": null,
            "_view_module": "@jupyter-widgets/controls",
            "_view_module_version": "1.5.0",
            "_view_name": "HTMLView",
            "description": "",
            "description_tooltip": null,
            "layout": "IPY_MODEL_e1135a90208843e18d3210db969df679",
            "placeholder": "​",
            "style": "IPY_MODEL_7541cfc1312244f4b723f387e1aa9701",
            "value": "spiece.model: 100%"
          }
        },
        "b23bddd75bb2417a87ff2379aaee1af1": {
          "model_module": "@jupyter-widgets/controls",
          "model_name": "FloatProgressModel",
          "model_module_version": "1.5.0",
          "state": {
            "_dom_classes": [],
            "_model_module": "@jupyter-widgets/controls",
            "_model_module_version": "1.5.0",
            "_model_name": "FloatProgressModel",
            "_view_count": null,
            "_view_module": "@jupyter-widgets/controls",
            "_view_module_version": "1.5.0",
            "_view_name": "ProgressView",
            "bar_style": "success",
            "description": "",
            "description_tooltip": null,
            "layout": "IPY_MODEL_4ae1eb638cf74fab87712bf767f326a7",
            "max": 791656,
            "min": 0,
            "orientation": "horizontal",
            "style": "IPY_MODEL_47d29e830f9e478bb70be848021b085c",
            "value": 791656
          }
        },
        "42c71b068f3446ad9ac985e503f40825": {
          "model_module": "@jupyter-widgets/controls",
          "model_name": "HTMLModel",
          "model_module_version": "1.5.0",
          "state": {
            "_dom_classes": [],
            "_model_module": "@jupyter-widgets/controls",
            "_model_module_version": "1.5.0",
            "_model_name": "HTMLModel",
            "_view_count": null,
            "_view_module": "@jupyter-widgets/controls",
            "_view_module_version": "1.5.0",
            "_view_name": "HTMLView",
            "description": "",
            "description_tooltip": null,
            "layout": "IPY_MODEL_88cd8af1c89841d583358ae0060b6594",
            "placeholder": "​",
            "style": "IPY_MODEL_0a0a5def9e514a8fb6df90e4305e843f",
            "value": " 792k/792k [00:00&lt;00:00, 5.37MB/s]"
          }
        },
        "0a4579d59026487ea0af9f7f7ceb7c2d": {
          "model_module": "@jupyter-widgets/base",
          "model_name": "LayoutModel",
          "model_module_version": "1.2.0",
          "state": {
            "_model_module": "@jupyter-widgets/base",
            "_model_module_version": "1.2.0",
            "_model_name": "LayoutModel",
            "_view_count": null,
            "_view_module": "@jupyter-widgets/base",
            "_view_module_version": "1.2.0",
            "_view_name": "LayoutView",
            "align_content": null,
            "align_items": null,
            "align_self": null,
            "border": null,
            "bottom": null,
            "display": null,
            "flex": null,
            "flex_flow": null,
            "grid_area": null,
            "grid_auto_columns": null,
            "grid_auto_flow": null,
            "grid_auto_rows": null,
            "grid_column": null,
            "grid_gap": null,
            "grid_row": null,
            "grid_template_areas": null,
            "grid_template_columns": null,
            "grid_template_rows": null,
            "height": null,
            "justify_content": null,
            "justify_items": null,
            "left": null,
            "margin": null,
            "max_height": null,
            "max_width": null,
            "min_height": null,
            "min_width": null,
            "object_fit": null,
            "object_position": null,
            "order": null,
            "overflow": null,
            "overflow_x": null,
            "overflow_y": null,
            "padding": null,
            "right": null,
            "top": null,
            "visibility": null,
            "width": null
          }
        },
        "e1135a90208843e18d3210db969df679": {
          "model_module": "@jupyter-widgets/base",
          "model_name": "LayoutModel",
          "model_module_version": "1.2.0",
          "state": {
            "_model_module": "@jupyter-widgets/base",
            "_model_module_version": "1.2.0",
            "_model_name": "LayoutModel",
            "_view_count": null,
            "_view_module": "@jupyter-widgets/base",
            "_view_module_version": "1.2.0",
            "_view_name": "LayoutView",
            "align_content": null,
            "align_items": null,
            "align_self": null,
            "border": null,
            "bottom": null,
            "display": null,
            "flex": null,
            "flex_flow": null,
            "grid_area": null,
            "grid_auto_columns": null,
            "grid_auto_flow": null,
            "grid_auto_rows": null,
            "grid_column": null,
            "grid_gap": null,
            "grid_row": null,
            "grid_template_areas": null,
            "grid_template_columns": null,
            "grid_template_rows": null,
            "height": null,
            "justify_content": null,
            "justify_items": null,
            "left": null,
            "margin": null,
            "max_height": null,
            "max_width": null,
            "min_height": null,
            "min_width": null,
            "object_fit": null,
            "object_position": null,
            "order": null,
            "overflow": null,
            "overflow_x": null,
            "overflow_y": null,
            "padding": null,
            "right": null,
            "top": null,
            "visibility": null,
            "width": null
          }
        },
        "7541cfc1312244f4b723f387e1aa9701": {
          "model_module": "@jupyter-widgets/controls",
          "model_name": "DescriptionStyleModel",
          "model_module_version": "1.5.0",
          "state": {
            "_model_module": "@jupyter-widgets/controls",
            "_model_module_version": "1.5.0",
            "_model_name": "DescriptionStyleModel",
            "_view_count": null,
            "_view_module": "@jupyter-widgets/base",
            "_view_module_version": "1.2.0",
            "_view_name": "StyleView",
            "description_width": ""
          }
        },
        "4ae1eb638cf74fab87712bf767f326a7": {
          "model_module": "@jupyter-widgets/base",
          "model_name": "LayoutModel",
          "model_module_version": "1.2.0",
          "state": {
            "_model_module": "@jupyter-widgets/base",
            "_model_module_version": "1.2.0",
            "_model_name": "LayoutModel",
            "_view_count": null,
            "_view_module": "@jupyter-widgets/base",
            "_view_module_version": "1.2.0",
            "_view_name": "LayoutView",
            "align_content": null,
            "align_items": null,
            "align_self": null,
            "border": null,
            "bottom": null,
            "display": null,
            "flex": null,
            "flex_flow": null,
            "grid_area": null,
            "grid_auto_columns": null,
            "grid_auto_flow": null,
            "grid_auto_rows": null,
            "grid_column": null,
            "grid_gap": null,
            "grid_row": null,
            "grid_template_areas": null,
            "grid_template_columns": null,
            "grid_template_rows": null,
            "height": null,
            "justify_content": null,
            "justify_items": null,
            "left": null,
            "margin": null,
            "max_height": null,
            "max_width": null,
            "min_height": null,
            "min_width": null,
            "object_fit": null,
            "object_position": null,
            "order": null,
            "overflow": null,
            "overflow_x": null,
            "overflow_y": null,
            "padding": null,
            "right": null,
            "top": null,
            "visibility": null,
            "width": null
          }
        },
        "47d29e830f9e478bb70be848021b085c": {
          "model_module": "@jupyter-widgets/controls",
          "model_name": "ProgressStyleModel",
          "model_module_version": "1.5.0",
          "state": {
            "_model_module": "@jupyter-widgets/controls",
            "_model_module_version": "1.5.0",
            "_model_name": "ProgressStyleModel",
            "_view_count": null,
            "_view_module": "@jupyter-widgets/base",
            "_view_module_version": "1.2.0",
            "_view_name": "StyleView",
            "bar_color": null,
            "description_width": ""
          }
        },
        "88cd8af1c89841d583358ae0060b6594": {
          "model_module": "@jupyter-widgets/base",
          "model_name": "LayoutModel",
          "model_module_version": "1.2.0",
          "state": {
            "_model_module": "@jupyter-widgets/base",
            "_model_module_version": "1.2.0",
            "_model_name": "LayoutModel",
            "_view_count": null,
            "_view_module": "@jupyter-widgets/base",
            "_view_module_version": "1.2.0",
            "_view_name": "LayoutView",
            "align_content": null,
            "align_items": null,
            "align_self": null,
            "border": null,
            "bottom": null,
            "display": null,
            "flex": null,
            "flex_flow": null,
            "grid_area": null,
            "grid_auto_columns": null,
            "grid_auto_flow": null,
            "grid_auto_rows": null,
            "grid_column": null,
            "grid_gap": null,
            "grid_row": null,
            "grid_template_areas": null,
            "grid_template_columns": null,
            "grid_template_rows": null,
            "height": null,
            "justify_content": null,
            "justify_items": null,
            "left": null,
            "margin": null,
            "max_height": null,
            "max_width": null,
            "min_height": null,
            "min_width": null,
            "object_fit": null,
            "object_position": null,
            "order": null,
            "overflow": null,
            "overflow_x": null,
            "overflow_y": null,
            "padding": null,
            "right": null,
            "top": null,
            "visibility": null,
            "width": null
          }
        },
        "0a0a5def9e514a8fb6df90e4305e843f": {
          "model_module": "@jupyter-widgets/controls",
          "model_name": "DescriptionStyleModel",
          "model_module_version": "1.5.0",
          "state": {
            "_model_module": "@jupyter-widgets/controls",
            "_model_module_version": "1.5.0",
            "_model_name": "DescriptionStyleModel",
            "_view_count": null,
            "_view_module": "@jupyter-widgets/base",
            "_view_module_version": "1.2.0",
            "_view_name": "StyleView",
            "description_width": ""
          }
        },
        "ee0c401e513e4912adf955ef52ce681c": {
          "model_module": "@jupyter-widgets/controls",
          "model_name": "HBoxModel",
          "model_module_version": "1.5.0",
          "state": {
            "_dom_classes": [],
            "_model_module": "@jupyter-widgets/controls",
            "_model_module_version": "1.5.0",
            "_model_name": "HBoxModel",
            "_view_count": null,
            "_view_module": "@jupyter-widgets/controls",
            "_view_module_version": "1.5.0",
            "_view_name": "HBoxView",
            "box_style": "",
            "children": [
              "IPY_MODEL_3383abe6d0fd4a17907e98b641ec66be",
              "IPY_MODEL_2d4dd45ce8e34f9284d8962a1f5a9507",
              "IPY_MODEL_e2ae2cf2d55f4079b5cb74c62e415a4a"
            ],
            "layout": "IPY_MODEL_6f2b171358a54deca5179559fc757019"
          }
        },
        "3383abe6d0fd4a17907e98b641ec66be": {
          "model_module": "@jupyter-widgets/controls",
          "model_name": "HTMLModel",
          "model_module_version": "1.5.0",
          "state": {
            "_dom_classes": [],
            "_model_module": "@jupyter-widgets/controls",
            "_model_module_version": "1.5.0",
            "_model_name": "HTMLModel",
            "_view_count": null,
            "_view_module": "@jupyter-widgets/controls",
            "_view_module_version": "1.5.0",
            "_view_name": "HTMLView",
            "description": "",
            "description_tooltip": null,
            "layout": "IPY_MODEL_853498dbae2149b98335122730acdf54",
            "placeholder": "​",
            "style": "IPY_MODEL_5738d68437664640a0b798f90616fc63",
            "value": "tokenizer.json: 100%"
          }
        },
        "2d4dd45ce8e34f9284d8962a1f5a9507": {
          "model_module": "@jupyter-widgets/controls",
          "model_name": "FloatProgressModel",
          "model_module_version": "1.5.0",
          "state": {
            "_dom_classes": [],
            "_model_module": "@jupyter-widgets/controls",
            "_model_module_version": "1.5.0",
            "_model_name": "FloatProgressModel",
            "_view_count": null,
            "_view_module": "@jupyter-widgets/controls",
            "_view_module_version": "1.5.0",
            "_view_name": "ProgressView",
            "bar_style": "success",
            "description": "",
            "description_tooltip": null,
            "layout": "IPY_MODEL_b5f86b16c35a42d39091e6e506ce139a",
            "max": 1389353,
            "min": 0,
            "orientation": "horizontal",
            "style": "IPY_MODEL_2aa41d571b674991a9f7666131d8aa94",
            "value": 1389353
          }
        },
        "e2ae2cf2d55f4079b5cb74c62e415a4a": {
          "model_module": "@jupyter-widgets/controls",
          "model_name": "HTMLModel",
          "model_module_version": "1.5.0",
          "state": {
            "_dom_classes": [],
            "_model_module": "@jupyter-widgets/controls",
            "_model_module_version": "1.5.0",
            "_model_name": "HTMLModel",
            "_view_count": null,
            "_view_module": "@jupyter-widgets/controls",
            "_view_module_version": "1.5.0",
            "_view_name": "HTMLView",
            "description": "",
            "description_tooltip": null,
            "layout": "IPY_MODEL_f6c464e3875740e6920770083c762da4",
            "placeholder": "​",
            "style": "IPY_MODEL_bc5c19b87e074d2eb97ee060ba49e1a9",
            "value": " 1.39M/1.39M [00:00&lt;00:00, 12.4MB/s]"
          }
        },
        "6f2b171358a54deca5179559fc757019": {
          "model_module": "@jupyter-widgets/base",
          "model_name": "LayoutModel",
          "model_module_version": "1.2.0",
          "state": {
            "_model_module": "@jupyter-widgets/base",
            "_model_module_version": "1.2.0",
            "_model_name": "LayoutModel",
            "_view_count": null,
            "_view_module": "@jupyter-widgets/base",
            "_view_module_version": "1.2.0",
            "_view_name": "LayoutView",
            "align_content": null,
            "align_items": null,
            "align_self": null,
            "border": null,
            "bottom": null,
            "display": null,
            "flex": null,
            "flex_flow": null,
            "grid_area": null,
            "grid_auto_columns": null,
            "grid_auto_flow": null,
            "grid_auto_rows": null,
            "grid_column": null,
            "grid_gap": null,
            "grid_row": null,
            "grid_template_areas": null,
            "grid_template_columns": null,
            "grid_template_rows": null,
            "height": null,
            "justify_content": null,
            "justify_items": null,
            "left": null,
            "margin": null,
            "max_height": null,
            "max_width": null,
            "min_height": null,
            "min_width": null,
            "object_fit": null,
            "object_position": null,
            "order": null,
            "overflow": null,
            "overflow_x": null,
            "overflow_y": null,
            "padding": null,
            "right": null,
            "top": null,
            "visibility": null,
            "width": null
          }
        },
        "853498dbae2149b98335122730acdf54": {
          "model_module": "@jupyter-widgets/base",
          "model_name": "LayoutModel",
          "model_module_version": "1.2.0",
          "state": {
            "_model_module": "@jupyter-widgets/base",
            "_model_module_version": "1.2.0",
            "_model_name": "LayoutModel",
            "_view_count": null,
            "_view_module": "@jupyter-widgets/base",
            "_view_module_version": "1.2.0",
            "_view_name": "LayoutView",
            "align_content": null,
            "align_items": null,
            "align_self": null,
            "border": null,
            "bottom": null,
            "display": null,
            "flex": null,
            "flex_flow": null,
            "grid_area": null,
            "grid_auto_columns": null,
            "grid_auto_flow": null,
            "grid_auto_rows": null,
            "grid_column": null,
            "grid_gap": null,
            "grid_row": null,
            "grid_template_areas": null,
            "grid_template_columns": null,
            "grid_template_rows": null,
            "height": null,
            "justify_content": null,
            "justify_items": null,
            "left": null,
            "margin": null,
            "max_height": null,
            "max_width": null,
            "min_height": null,
            "min_width": null,
            "object_fit": null,
            "object_position": null,
            "order": null,
            "overflow": null,
            "overflow_x": null,
            "overflow_y": null,
            "padding": null,
            "right": null,
            "top": null,
            "visibility": null,
            "width": null
          }
        },
        "5738d68437664640a0b798f90616fc63": {
          "model_module": "@jupyter-widgets/controls",
          "model_name": "DescriptionStyleModel",
          "model_module_version": "1.5.0",
          "state": {
            "_model_module": "@jupyter-widgets/controls",
            "_model_module_version": "1.5.0",
            "_model_name": "DescriptionStyleModel",
            "_view_count": null,
            "_view_module": "@jupyter-widgets/base",
            "_view_module_version": "1.2.0",
            "_view_name": "StyleView",
            "description_width": ""
          }
        },
        "b5f86b16c35a42d39091e6e506ce139a": {
          "model_module": "@jupyter-widgets/base",
          "model_name": "LayoutModel",
          "model_module_version": "1.2.0",
          "state": {
            "_model_module": "@jupyter-widgets/base",
            "_model_module_version": "1.2.0",
            "_model_name": "LayoutModel",
            "_view_count": null,
            "_view_module": "@jupyter-widgets/base",
            "_view_module_version": "1.2.0",
            "_view_name": "LayoutView",
            "align_content": null,
            "align_items": null,
            "align_self": null,
            "border": null,
            "bottom": null,
            "display": null,
            "flex": null,
            "flex_flow": null,
            "grid_area": null,
            "grid_auto_columns": null,
            "grid_auto_flow": null,
            "grid_auto_rows": null,
            "grid_column": null,
            "grid_gap": null,
            "grid_row": null,
            "grid_template_areas": null,
            "grid_template_columns": null,
            "grid_template_rows": null,
            "height": null,
            "justify_content": null,
            "justify_items": null,
            "left": null,
            "margin": null,
            "max_height": null,
            "max_width": null,
            "min_height": null,
            "min_width": null,
            "object_fit": null,
            "object_position": null,
            "order": null,
            "overflow": null,
            "overflow_x": null,
            "overflow_y": null,
            "padding": null,
            "right": null,
            "top": null,
            "visibility": null,
            "width": null
          }
        },
        "2aa41d571b674991a9f7666131d8aa94": {
          "model_module": "@jupyter-widgets/controls",
          "model_name": "ProgressStyleModel",
          "model_module_version": "1.5.0",
          "state": {
            "_model_module": "@jupyter-widgets/controls",
            "_model_module_version": "1.5.0",
            "_model_name": "ProgressStyleModel",
            "_view_count": null,
            "_view_module": "@jupyter-widgets/base",
            "_view_module_version": "1.2.0",
            "_view_name": "StyleView",
            "bar_color": null,
            "description_width": ""
          }
        },
        "f6c464e3875740e6920770083c762da4": {
          "model_module": "@jupyter-widgets/base",
          "model_name": "LayoutModel",
          "model_module_version": "1.2.0",
          "state": {
            "_model_module": "@jupyter-widgets/base",
            "_model_module_version": "1.2.0",
            "_model_name": "LayoutModel",
            "_view_count": null,
            "_view_module": "@jupyter-widgets/base",
            "_view_module_version": "1.2.0",
            "_view_name": "LayoutView",
            "align_content": null,
            "align_items": null,
            "align_self": null,
            "border": null,
            "bottom": null,
            "display": null,
            "flex": null,
            "flex_flow": null,
            "grid_area": null,
            "grid_auto_columns": null,
            "grid_auto_flow": null,
            "grid_auto_rows": null,
            "grid_column": null,
            "grid_gap": null,
            "grid_row": null,
            "grid_template_areas": null,
            "grid_template_columns": null,
            "grid_template_rows": null,
            "height": null,
            "justify_content": null,
            "justify_items": null,
            "left": null,
            "margin": null,
            "max_height": null,
            "max_width": null,
            "min_height": null,
            "min_width": null,
            "object_fit": null,
            "object_position": null,
            "order": null,
            "overflow": null,
            "overflow_x": null,
            "overflow_y": null,
            "padding": null,
            "right": null,
            "top": null,
            "visibility": null,
            "width": null
          }
        },
        "bc5c19b87e074d2eb97ee060ba49e1a9": {
          "model_module": "@jupyter-widgets/controls",
          "model_name": "DescriptionStyleModel",
          "model_module_version": "1.5.0",
          "state": {
            "_model_module": "@jupyter-widgets/controls",
            "_model_module_version": "1.5.0",
            "_model_name": "DescriptionStyleModel",
            "_view_count": null,
            "_view_module": "@jupyter-widgets/base",
            "_view_module_version": "1.2.0",
            "_view_name": "StyleView",
            "description_width": ""
          }
        },
        "22af43135e92417891982ce3365d10fc": {
          "model_module": "@jupyter-widgets/controls",
          "model_name": "HBoxModel",
          "model_module_version": "1.5.0",
          "state": {
            "_dom_classes": [],
            "_model_module": "@jupyter-widgets/controls",
            "_model_module_version": "1.5.0",
            "_model_name": "HBoxModel",
            "_view_count": null,
            "_view_module": "@jupyter-widgets/controls",
            "_view_module_version": "1.5.0",
            "_view_name": "HBoxView",
            "box_style": "",
            "children": [
              "IPY_MODEL_a3d94617da714b10bd6afc80450be70f",
              "IPY_MODEL_53652c4d66eb49f7b95cdf27e1e5b193",
              "IPY_MODEL_acbc30bbf14e4044b430b31828a437ab"
            ],
            "layout": "IPY_MODEL_8020483aac6d4dd281c8d457f9357c90"
          }
        },
        "a3d94617da714b10bd6afc80450be70f": {
          "model_module": "@jupyter-widgets/controls",
          "model_name": "HTMLModel",
          "model_module_version": "1.5.0",
          "state": {
            "_dom_classes": [],
            "_model_module": "@jupyter-widgets/controls",
            "_model_module_version": "1.5.0",
            "_model_name": "HTMLModel",
            "_view_count": null,
            "_view_module": "@jupyter-widgets/controls",
            "_view_module_version": "1.5.0",
            "_view_name": "HTMLView",
            "description": "",
            "description_tooltip": null,
            "layout": "IPY_MODEL_12ce20ecea5b426fae713d2183b6ae97",
            "placeholder": "​",
            "style": "IPY_MODEL_02dab3643550436c9b3c8ae3f407be47",
            "value": "config.json: 100%"
          }
        },
        "53652c4d66eb49f7b95cdf27e1e5b193": {
          "model_module": "@jupyter-widgets/controls",
          "model_name": "FloatProgressModel",
          "model_module_version": "1.5.0",
          "state": {
            "_dom_classes": [],
            "_model_module": "@jupyter-widgets/controls",
            "_model_module_version": "1.5.0",
            "_model_name": "FloatProgressModel",
            "_view_count": null,
            "_view_module": "@jupyter-widgets/controls",
            "_view_module_version": "1.5.0",
            "_view_name": "ProgressView",
            "bar_style": "success",
            "description": "",
            "description_tooltip": null,
            "layout": "IPY_MODEL_f7303769265c42c98a0f625c3c9edb14",
            "max": 1208,
            "min": 0,
            "orientation": "horizontal",
            "style": "IPY_MODEL_0af710551627427196bc358f46be17f2",
            "value": 1208
          }
        },
        "acbc30bbf14e4044b430b31828a437ab": {
          "model_module": "@jupyter-widgets/controls",
          "model_name": "HTMLModel",
          "model_module_version": "1.5.0",
          "state": {
            "_dom_classes": [],
            "_model_module": "@jupyter-widgets/controls",
            "_model_module_version": "1.5.0",
            "_model_name": "HTMLModel",
            "_view_count": null,
            "_view_module": "@jupyter-widgets/controls",
            "_view_module_version": "1.5.0",
            "_view_name": "HTMLView",
            "description": "",
            "description_tooltip": null,
            "layout": "IPY_MODEL_4cf13360141346aabe089cfd0bc635b8",
            "placeholder": "​",
            "style": "IPY_MODEL_36a36289d40d4ef285a2f76f31c86105",
            "value": " 1.21k/1.21k [00:00&lt;00:00, 13.1kB/s]"
          }
        },
        "8020483aac6d4dd281c8d457f9357c90": {
          "model_module": "@jupyter-widgets/base",
          "model_name": "LayoutModel",
          "model_module_version": "1.2.0",
          "state": {
            "_model_module": "@jupyter-widgets/base",
            "_model_module_version": "1.2.0",
            "_model_name": "LayoutModel",
            "_view_count": null,
            "_view_module": "@jupyter-widgets/base",
            "_view_module_version": "1.2.0",
            "_view_name": "LayoutView",
            "align_content": null,
            "align_items": null,
            "align_self": null,
            "border": null,
            "bottom": null,
            "display": null,
            "flex": null,
            "flex_flow": null,
            "grid_area": null,
            "grid_auto_columns": null,
            "grid_auto_flow": null,
            "grid_auto_rows": null,
            "grid_column": null,
            "grid_gap": null,
            "grid_row": null,
            "grid_template_areas": null,
            "grid_template_columns": null,
            "grid_template_rows": null,
            "height": null,
            "justify_content": null,
            "justify_items": null,
            "left": null,
            "margin": null,
            "max_height": null,
            "max_width": null,
            "min_height": null,
            "min_width": null,
            "object_fit": null,
            "object_position": null,
            "order": null,
            "overflow": null,
            "overflow_x": null,
            "overflow_y": null,
            "padding": null,
            "right": null,
            "top": null,
            "visibility": null,
            "width": null
          }
        },
        "12ce20ecea5b426fae713d2183b6ae97": {
          "model_module": "@jupyter-widgets/base",
          "model_name": "LayoutModel",
          "model_module_version": "1.2.0",
          "state": {
            "_model_module": "@jupyter-widgets/base",
            "_model_module_version": "1.2.0",
            "_model_name": "LayoutModel",
            "_view_count": null,
            "_view_module": "@jupyter-widgets/base",
            "_view_module_version": "1.2.0",
            "_view_name": "LayoutView",
            "align_content": null,
            "align_items": null,
            "align_self": null,
            "border": null,
            "bottom": null,
            "display": null,
            "flex": null,
            "flex_flow": null,
            "grid_area": null,
            "grid_auto_columns": null,
            "grid_auto_flow": null,
            "grid_auto_rows": null,
            "grid_column": null,
            "grid_gap": null,
            "grid_row": null,
            "grid_template_areas": null,
            "grid_template_columns": null,
            "grid_template_rows": null,
            "height": null,
            "justify_content": null,
            "justify_items": null,
            "left": null,
            "margin": null,
            "max_height": null,
            "max_width": null,
            "min_height": null,
            "min_width": null,
            "object_fit": null,
            "object_position": null,
            "order": null,
            "overflow": null,
            "overflow_x": null,
            "overflow_y": null,
            "padding": null,
            "right": null,
            "top": null,
            "visibility": null,
            "width": null
          }
        },
        "02dab3643550436c9b3c8ae3f407be47": {
          "model_module": "@jupyter-widgets/controls",
          "model_name": "DescriptionStyleModel",
          "model_module_version": "1.5.0",
          "state": {
            "_model_module": "@jupyter-widgets/controls",
            "_model_module_version": "1.5.0",
            "_model_name": "DescriptionStyleModel",
            "_view_count": null,
            "_view_module": "@jupyter-widgets/base",
            "_view_module_version": "1.2.0",
            "_view_name": "StyleView",
            "description_width": ""
          }
        },
        "f7303769265c42c98a0f625c3c9edb14": {
          "model_module": "@jupyter-widgets/base",
          "model_name": "LayoutModel",
          "model_module_version": "1.2.0",
          "state": {
            "_model_module": "@jupyter-widgets/base",
            "_model_module_version": "1.2.0",
            "_model_name": "LayoutModel",
            "_view_count": null,
            "_view_module": "@jupyter-widgets/base",
            "_view_module_version": "1.2.0",
            "_view_name": "LayoutView",
            "align_content": null,
            "align_items": null,
            "align_self": null,
            "border": null,
            "bottom": null,
            "display": null,
            "flex": null,
            "flex_flow": null,
            "grid_area": null,
            "grid_auto_columns": null,
            "grid_auto_flow": null,
            "grid_auto_rows": null,
            "grid_column": null,
            "grid_gap": null,
            "grid_row": null,
            "grid_template_areas": null,
            "grid_template_columns": null,
            "grid_template_rows": null,
            "height": null,
            "justify_content": null,
            "justify_items": null,
            "left": null,
            "margin": null,
            "max_height": null,
            "max_width": null,
            "min_height": null,
            "min_width": null,
            "object_fit": null,
            "object_position": null,
            "order": null,
            "overflow": null,
            "overflow_x": null,
            "overflow_y": null,
            "padding": null,
            "right": null,
            "top": null,
            "visibility": null,
            "width": null
          }
        },
        "0af710551627427196bc358f46be17f2": {
          "model_module": "@jupyter-widgets/controls",
          "model_name": "ProgressStyleModel",
          "model_module_version": "1.5.0",
          "state": {
            "_model_module": "@jupyter-widgets/controls",
            "_model_module_version": "1.5.0",
            "_model_name": "ProgressStyleModel",
            "_view_count": null,
            "_view_module": "@jupyter-widgets/base",
            "_view_module_version": "1.2.0",
            "_view_name": "StyleView",
            "bar_color": null,
            "description_width": ""
          }
        },
        "4cf13360141346aabe089cfd0bc635b8": {
          "model_module": "@jupyter-widgets/base",
          "model_name": "LayoutModel",
          "model_module_version": "1.2.0",
          "state": {
            "_model_module": "@jupyter-widgets/base",
            "_model_module_version": "1.2.0",
            "_model_name": "LayoutModel",
            "_view_count": null,
            "_view_module": "@jupyter-widgets/base",
            "_view_module_version": "1.2.0",
            "_view_name": "LayoutView",
            "align_content": null,
            "align_items": null,
            "align_self": null,
            "border": null,
            "bottom": null,
            "display": null,
            "flex": null,
            "flex_flow": null,
            "grid_area": null,
            "grid_auto_columns": null,
            "grid_auto_flow": null,
            "grid_auto_rows": null,
            "grid_column": null,
            "grid_gap": null,
            "grid_row": null,
            "grid_template_areas": null,
            "grid_template_columns": null,
            "grid_template_rows": null,
            "height": null,
            "justify_content": null,
            "justify_items": null,
            "left": null,
            "margin": null,
            "max_height": null,
            "max_width": null,
            "min_height": null,
            "min_width": null,
            "object_fit": null,
            "object_position": null,
            "order": null,
            "overflow": null,
            "overflow_x": null,
            "overflow_y": null,
            "padding": null,
            "right": null,
            "top": null,
            "visibility": null,
            "width": null
          }
        },
        "36a36289d40d4ef285a2f76f31c86105": {
          "model_module": "@jupyter-widgets/controls",
          "model_name": "DescriptionStyleModel",
          "model_module_version": "1.5.0",
          "state": {
            "_model_module": "@jupyter-widgets/controls",
            "_model_module_version": "1.5.0",
            "_model_name": "DescriptionStyleModel",
            "_view_count": null,
            "_view_module": "@jupyter-widgets/base",
            "_view_module_version": "1.2.0",
            "_view_name": "StyleView",
            "description_width": ""
          }
        }
      }
    }
  },
  "cells": [
    {
      "cell_type": "code",
      "execution_count": null,
      "metadata": {
        "id": "eQmloNhLB319"
      },
      "outputs": [],
      "source": [
        "from google.colab import drive\n",
        "drive.mount('/content/drive')"
      ]
    },
    {
      "cell_type": "code",
      "source": [
        "!git clone https://github.com/theobui1711/t2f.git"
      ],
      "metadata": {
        "colab": {
          "base_uri": "https://localhost:8080/"
        },
        "id": "NdxRbySBCOX0",
        "outputId": "dc868c18-80f8-4c02-95a4-80950d19bf97"
      },
      "execution_count": null,
      "outputs": [
        {
          "output_type": "stream",
          "name": "stdout",
          "text": [
            "Cloning into 't2f'...\n",
            "remote: Enumerating objects: 99, done.\u001b[K\n",
            "remote: Counting objects: 100% (99/99), done.\u001b[K\n",
            "remote: Compressing objects: 100% (71/71), done.\u001b[K\n",
            "remote: Total 99 (delta 61), reused 66 (delta 28), pack-reused 0\u001b[K\n",
            "Receiving objects: 100% (99/99), 227.71 KiB | 2.96 MiB/s, done.\n",
            "Resolving deltas: 100% (61/61), done.\n"
          ]
        }
      ]
    },
    {
      "cell_type": "code",
      "source": [
        "!pip install --upgrade --no-cache-dir gdown"
      ],
      "metadata": {
        "colab": {
          "base_uri": "https://localhost:8080/"
        },
        "id": "TVjxT6TICQSL",
        "outputId": "ef4b5d31-0006-4f49-e685-04fa801f8ed1"
      },
      "execution_count": null,
      "outputs": [
        {
          "output_type": "stream",
          "name": "stdout",
          "text": [
            "Requirement already satisfied: gdown in /usr/local/lib/python3.10/dist-packages (5.1.0)\n",
            "Requirement already satisfied: beautifulsoup4 in /usr/local/lib/python3.10/dist-packages (from gdown) (4.12.3)\n",
            "Requirement already satisfied: filelock in /usr/local/lib/python3.10/dist-packages (from gdown) (3.13.4)\n",
            "Requirement already satisfied: requests[socks] in /usr/local/lib/python3.10/dist-packages (from gdown) (2.31.0)\n",
            "Requirement already satisfied: tqdm in /usr/local/lib/python3.10/dist-packages (from gdown) (4.66.2)\n",
            "Requirement already satisfied: soupsieve>1.2 in /usr/local/lib/python3.10/dist-packages (from beautifulsoup4->gdown) (2.5)\n",
            "Requirement already satisfied: charset-normalizer<4,>=2 in /usr/local/lib/python3.10/dist-packages (from requests[socks]->gdown) (3.3.2)\n",
            "Requirement already satisfied: idna<4,>=2.5 in /usr/local/lib/python3.10/dist-packages (from requests[socks]->gdown) (3.7)\n",
            "Requirement already satisfied: urllib3<3,>=1.21.1 in /usr/local/lib/python3.10/dist-packages (from requests[socks]->gdown) (2.0.7)\n",
            "Requirement already satisfied: certifi>=2017.4.17 in /usr/local/lib/python3.10/dist-packages (from requests[socks]->gdown) (2024.2.2)\n",
            "Requirement already satisfied: PySocks!=1.5.7,>=1.5.6 in /usr/local/lib/python3.10/dist-packages (from requests[socks]->gdown) (1.7.1)\n"
          ]
        }
      ]
    },
    {
      "cell_type": "code",
      "source": [
        "!gdown 1-6VHXsqrKLcxZVzwqJ7_jJM-eruRQKsr\n",
        "!gdown 1CV36iomcF85sV8ilifeVdzXdl0ydh2I4"
      ],
      "metadata": {
        "colab": {
          "base_uri": "https://localhost:8080/"
        },
        "id": "bD_MGN4pCTi8",
        "outputId": "165fb073-f369-4f8e-fec4-1abba48b5cd0"
      },
      "execution_count": null,
      "outputs": [
        {
          "output_type": "stream",
          "name": "stdout",
          "text": [
            "Downloading...\n",
            "From (original): https://drive.google.com/uc?id=1-6VHXsqrKLcxZVzwqJ7_jJM-eruRQKsr\n",
            "From (redirected): https://drive.google.com/uc?id=1-6VHXsqrKLcxZVzwqJ7_jJM-eruRQKsr&confirm=t&uuid=7bd5c928-6b60-4792-b2db-ab6b59485e2c\n",
            "To: /content/data.zip\n",
            "100% 519M/519M [00:03<00:00, 130MB/s]\n",
            "Downloading...\n",
            "From (original): https://drive.google.com/uc?id=1CV36iomcF85sV8ilifeVdzXdl0ydh2I4\n",
            "From (redirected): https://drive.google.com/uc?id=1CV36iomcF85sV8ilifeVdzXdl0ydh2I4&confirm=t&uuid=21e50e60-b91c-4a4a-9f14-2da4aeaa67ab\n",
            "To: /content/t5_warmup_ep2_wob_output.zip\n",
            "100% 2.47G/2.47G [00:36<00:00, 68.2MB/s]\n"
          ]
        }
      ]
    },
    {
      "cell_type": "code",
      "source": [
        "!unzip -q /content/data.zip -d /content/t2f/\n",
        "!unzip -q /content/t5_warmup_ep2_wob_output.zip -d /content/t2f/"
      ],
      "metadata": {
        "id": "xEhuJF3pCnf7"
      },
      "execution_count": null,
      "outputs": []
    },
    {
      "cell_type": "code",
      "source": [
        "!mv /content/t2f/output /content/t2f/t5_warmup_ep2_wob_output"
      ],
      "metadata": {
        "id": "stgfmDXiCvwl"
      },
      "execution_count": null,
      "outputs": []
    },
    {
      "cell_type": "code",
      "source": [
        "!pip -q install transformers -U accelerate -U sacremoses importlib-metadata"
      ],
      "metadata": {
        "colab": {
          "base_uri": "https://localhost:8080/"
        },
        "id": "sCkH67UAC03p",
        "outputId": "8ff53b74-7987-468a-c802-22ee3232d7a5"
      },
      "execution_count": null,
      "outputs": [
        {
          "output_type": "stream",
          "name": "stdout",
          "text": [
            "\u001b[2K     \u001b[90m━━━━━━━━━━━━━━━━━━━━━━━━━━━━━━━━━━━━━━━━\u001b[0m \u001b[32m9.0/9.0 MB\u001b[0m \u001b[31m10.5 MB/s\u001b[0m eta \u001b[36m0:00:00\u001b[0m\n",
            "\u001b[2K     \u001b[90m━━━━━━━━━━━━━━━━━━━━━━━━━━━━━━━━━━━━━━━━\u001b[0m \u001b[32m297.6/297.6 kB\u001b[0m \u001b[31m26.9 MB/s\u001b[0m eta \u001b[36m0:00:00\u001b[0m\n",
            "\u001b[2K     \u001b[90m━━━━━━━━━━━━━━━━━━━━━━━━━━━━━━━━━━━━━━━━\u001b[0m \u001b[32m897.5/897.5 kB\u001b[0m \u001b[31m50.0 MB/s\u001b[0m eta \u001b[36m0:00:00\u001b[0m\n",
            "\u001b[?25h"
          ]
        }
      ]
    },
    {
      "cell_type": "code",
      "source": [
        "%cd t2f"
      ],
      "metadata": {
        "colab": {
          "base_uri": "https://localhost:8080/"
        },
        "id": "GNvOyI_nC2rV",
        "outputId": "6b53edee-b3fc-4015-9fbc-2daad6cb779f"
      },
      "execution_count": null,
      "outputs": [
        {
          "output_type": "stream",
          "name": "stdout",
          "text": [
            "/content/t2f\n"
          ]
        }
      ]
    },
    {
      "cell_type": "code",
      "source": [
        "!mkdir experiments/\n",
        "!mkdir experiments/full/\n",
        "!echo \"{}\" > experiments/full/finetune_description.json"
      ],
      "metadata": {
        "id": "f37rvG5BC4fL"
      },
      "execution_count": null,
      "outputs": []
    },
    {
      "cell_type": "code",
      "source": [
        "# combine datasets\n",
        "import json\n",
        "\n",
        "def combine_json_files(file1_path, file2_path, output_path):\n",
        "    with open(file1_path, 'r') as file1:\n",
        "        data1 = json.load(file1)\n",
        "\n",
        "    with open(file2_path, 'r') as file2:\n",
        "        data2 = json.load(file2)\n",
        "\n",
        "    combined_data = data1 + data2\n",
        "\n",
        "    with open(output_path, 'w') as output_file:\n",
        "        json.dump(combined_data, output_file)\n",
        "\n",
        "# Replace these paths with the paths to your JSON files\n",
        "file1_path = 'data/floorplan/floorplan_finetune.json'\n",
        "file2_path = 'data/floorplan/floorplan_eval.json'\n",
        "output_path = 'data/floorplan/floorplan_combined.json'\n",
        "\n",
        "# combine_json_files(file1_path, file2_path, output_path)"
      ],
      "metadata": {
        "id": "lhdmi28ADCy8"
      },
      "execution_count": null,
      "outputs": []
    },
    {
      "cell_type": "code",
      "source": [
        "import torch\n",
        "from torch.optim import Adam\n",
        "from torch.optim.lr_scheduler import StepLR\n",
        "from torch.utils.data import DataLoader\n",
        "from transformers import T5Tokenizer, T5ForConditionalGeneration, Trainer, default_data_collator, \\\n",
        "    DataCollatorForLanguageModeling, EarlyStoppingCallback\n",
        "from datasets import load_dataset\n",
        "from arguments import DataTrainingArguments, ModelArguments, TrainingArguments\n",
        "from collections import defaultdict\n",
        "import cv2\n",
        "import numpy as np\n",
        "import random\n",
        "import matplotlib.pyplot as plt\n",
        "from utils import color_idx, room_idx\n",
        "\n",
        "# Initialize the tokenizer\n",
        "tokenizer = T5Tokenizer.from_pretrained('t5-base', legacy=True)\n",
        "\n",
        "# Initialize the data arguments\n",
        "data_args = DataTrainingArguments(\n",
        "    datasets='floorplan',\n",
        "    data_dir=None,\n",
        "    train_split='finetune',\n",
        "    max_seq_length=512,\n",
        "    max_output_seq_length=512,\n",
        "    max_seq_length_eval=512,\n",
        "    max_output_seq_length_eval=512,\n",
        "    exp='full',\n",
        "    boundary_in_where='Encoder'\n",
        ")"
      ],
      "metadata": {
        "colab": {
          "base_uri": "https://localhost:8080/",
          "height": 258,
          "referenced_widgets": [
            "5effbc31852b463ba74ed7dd3c471bbd",
            "c0466c990e2e496c9b19fb8637d9171d",
            "b23bddd75bb2417a87ff2379aaee1af1",
            "42c71b068f3446ad9ac985e503f40825",
            "0a4579d59026487ea0af9f7f7ceb7c2d",
            "e1135a90208843e18d3210db969df679",
            "7541cfc1312244f4b723f387e1aa9701",
            "4ae1eb638cf74fab87712bf767f326a7",
            "47d29e830f9e478bb70be848021b085c",
            "88cd8af1c89841d583358ae0060b6594",
            "0a0a5def9e514a8fb6df90e4305e843f",
            "ee0c401e513e4912adf955ef52ce681c",
            "3383abe6d0fd4a17907e98b641ec66be",
            "2d4dd45ce8e34f9284d8962a1f5a9507",
            "e2ae2cf2d55f4079b5cb74c62e415a4a",
            "6f2b171358a54deca5179559fc757019",
            "853498dbae2149b98335122730acdf54",
            "5738d68437664640a0b798f90616fc63",
            "b5f86b16c35a42d39091e6e506ce139a",
            "2aa41d571b674991a9f7666131d8aa94",
            "f6c464e3875740e6920770083c762da4",
            "bc5c19b87e074d2eb97ee060ba49e1a9",
            "22af43135e92417891982ce3365d10fc",
            "a3d94617da714b10bd6afc80450be70f",
            "53652c4d66eb49f7b95cdf27e1e5b193",
            "acbc30bbf14e4044b430b31828a437ab",
            "8020483aac6d4dd281c8d457f9357c90",
            "12ce20ecea5b426fae713d2183b6ae97",
            "02dab3643550436c9b3c8ae3f407be47",
            "f7303769265c42c98a0f625c3c9edb14",
            "0af710551627427196bc358f46be17f2",
            "4cf13360141346aabe089cfd0bc635b8",
            "36a36289d40d4ef285a2f76f31c86105"
          ]
        },
        "id": "CxouSZ6dDHir",
        "outputId": "2756b44f-2af1-4931-b4ab-4271b69b3a34"
      },
      "execution_count": null,
      "outputs": [
        {
          "output_type": "stream",
          "name": "stderr",
          "text": [
            "/usr/local/lib/python3.10/dist-packages/huggingface_hub/utils/_token.py:88: UserWarning: \n",
            "The secret `HF_TOKEN` does not exist in your Colab secrets.\n",
            "To authenticate with the Hugging Face Hub, create a token in your settings tab (https://huggingface.co/settings/tokens), set it as secret in your Google Colab and restart your session.\n",
            "You will be able to reuse this secret in all of your notebooks.\n",
            "Please note that authentication is recommended but still optional to access public models or datasets.\n",
            "  warnings.warn(\n"
          ]
        },
        {
          "output_type": "display_data",
          "data": {
            "text/plain": [
              "spiece.model:   0%|          | 0.00/792k [00:00<?, ?B/s]"
            ],
            "application/vnd.jupyter.widget-view+json": {
              "version_major": 2,
              "version_minor": 0,
              "model_id": "5effbc31852b463ba74ed7dd3c471bbd"
            }
          },
          "metadata": {}
        },
        {
          "output_type": "display_data",
          "data": {
            "text/plain": [
              "tokenizer.json:   0%|          | 0.00/1.39M [00:00<?, ?B/s]"
            ],
            "application/vnd.jupyter.widget-view+json": {
              "version_major": 2,
              "version_minor": 0,
              "model_id": "ee0c401e513e4912adf955ef52ce681c"
            }
          },
          "metadata": {}
        },
        {
          "output_type": "display_data",
          "data": {
            "text/plain": [
              "config.json:   0%|          | 0.00/1.21k [00:00<?, ?B/s]"
            ],
            "application/vnd.jupyter.widget-view+json": {
              "version_major": 2,
              "version_minor": 0,
              "model_id": "22af43135e92417891982ce3365d10fc"
            }
          },
          "metadata": {}
        },
        {
          "output_type": "stream",
          "name": "stderr",
          "text": [
            "Special tokens have been added in the vocabulary, make sure the associated word embeddings are fine-tuned or trained.\n"
          ]
        }
      ]
    },
    {
      "cell_type": "code",
      "source": [
        "model_name_or_checkpoint_path = '/content/t2f/t5_warmup_ep2_wob_output/checkpoint-34500'\n",
        "\n",
        "if torch.cuda.is_available():\n",
        "    device = torch.device('cuda')\n",
        "else:\n",
        "    device = torch.device('cpu')\n",
        "\n",
        "# config = T5Config.from_pretrained('/content/t2f/t5_warmup_ep2_wob_output/checkpoint-34500', dropout_rate=0.1)\n",
        "\n",
        "model = T5ForConditionalGeneration.from_pretrained(model_name_or_checkpoint_path)\n",
        "model.to(device)"
      ],
      "metadata": {
        "colab": {
          "base_uri": "https://localhost:8080/"
        },
        "id": "-RZ9pCn_DMHi",
        "outputId": "45bde163-1f55-49b8-ad25-37901c7dc2d1"
      },
      "execution_count": null,
      "outputs": [
        {
          "output_type": "execute_result",
          "data": {
            "text/plain": [
              "T5ForConditionalGeneration(\n",
              "  (shared): Embedding(32128, 768)\n",
              "  (encoder): T5Stack(\n",
              "    (embed_tokens): Embedding(32128, 768)\n",
              "    (block): ModuleList(\n",
              "      (0): T5Block(\n",
              "        (layer): ModuleList(\n",
              "          (0): T5LayerSelfAttention(\n",
              "            (SelfAttention): T5Attention(\n",
              "              (q): Linear(in_features=768, out_features=768, bias=False)\n",
              "              (k): Linear(in_features=768, out_features=768, bias=False)\n",
              "              (v): Linear(in_features=768, out_features=768, bias=False)\n",
              "              (o): Linear(in_features=768, out_features=768, bias=False)\n",
              "              (relative_attention_bias): Embedding(32, 12)\n",
              "            )\n",
              "            (layer_norm): T5LayerNorm()\n",
              "            (dropout): Dropout(p=0.1, inplace=False)\n",
              "          )\n",
              "          (1): T5LayerFF(\n",
              "            (DenseReluDense): T5DenseActDense(\n",
              "              (wi): Linear(in_features=768, out_features=3072, bias=False)\n",
              "              (wo): Linear(in_features=3072, out_features=768, bias=False)\n",
              "              (dropout): Dropout(p=0.1, inplace=False)\n",
              "              (act): ReLU()\n",
              "            )\n",
              "            (layer_norm): T5LayerNorm()\n",
              "            (dropout): Dropout(p=0.1, inplace=False)\n",
              "          )\n",
              "        )\n",
              "      )\n",
              "      (1-11): 11 x T5Block(\n",
              "        (layer): ModuleList(\n",
              "          (0): T5LayerSelfAttention(\n",
              "            (SelfAttention): T5Attention(\n",
              "              (q): Linear(in_features=768, out_features=768, bias=False)\n",
              "              (k): Linear(in_features=768, out_features=768, bias=False)\n",
              "              (v): Linear(in_features=768, out_features=768, bias=False)\n",
              "              (o): Linear(in_features=768, out_features=768, bias=False)\n",
              "            )\n",
              "            (layer_norm): T5LayerNorm()\n",
              "            (dropout): Dropout(p=0.1, inplace=False)\n",
              "          )\n",
              "          (1): T5LayerFF(\n",
              "            (DenseReluDense): T5DenseActDense(\n",
              "              (wi): Linear(in_features=768, out_features=3072, bias=False)\n",
              "              (wo): Linear(in_features=3072, out_features=768, bias=False)\n",
              "              (dropout): Dropout(p=0.1, inplace=False)\n",
              "              (act): ReLU()\n",
              "            )\n",
              "            (layer_norm): T5LayerNorm()\n",
              "            (dropout): Dropout(p=0.1, inplace=False)\n",
              "          )\n",
              "        )\n",
              "      )\n",
              "    )\n",
              "    (final_layer_norm): T5LayerNorm()\n",
              "    (dropout): Dropout(p=0.1, inplace=False)\n",
              "  )\n",
              "  (decoder): T5Stack(\n",
              "    (embed_tokens): Embedding(32128, 768)\n",
              "    (block): ModuleList(\n",
              "      (0): T5Block(\n",
              "        (layer): ModuleList(\n",
              "          (0): T5LayerSelfAttention(\n",
              "            (SelfAttention): T5Attention(\n",
              "              (q): Linear(in_features=768, out_features=768, bias=False)\n",
              "              (k): Linear(in_features=768, out_features=768, bias=False)\n",
              "              (v): Linear(in_features=768, out_features=768, bias=False)\n",
              "              (o): Linear(in_features=768, out_features=768, bias=False)\n",
              "              (relative_attention_bias): Embedding(32, 12)\n",
              "            )\n",
              "            (layer_norm): T5LayerNorm()\n",
              "            (dropout): Dropout(p=0.1, inplace=False)\n",
              "          )\n",
              "          (1): T5LayerCrossAttention(\n",
              "            (EncDecAttention): T5Attention(\n",
              "              (q): Linear(in_features=768, out_features=768, bias=False)\n",
              "              (k): Linear(in_features=768, out_features=768, bias=False)\n",
              "              (v): Linear(in_features=768, out_features=768, bias=False)\n",
              "              (o): Linear(in_features=768, out_features=768, bias=False)\n",
              "            )\n",
              "            (layer_norm): T5LayerNorm()\n",
              "            (dropout): Dropout(p=0.1, inplace=False)\n",
              "          )\n",
              "          (2): T5LayerFF(\n",
              "            (DenseReluDense): T5DenseActDense(\n",
              "              (wi): Linear(in_features=768, out_features=3072, bias=False)\n",
              "              (wo): Linear(in_features=3072, out_features=768, bias=False)\n",
              "              (dropout): Dropout(p=0.1, inplace=False)\n",
              "              (act): ReLU()\n",
              "            )\n",
              "            (layer_norm): T5LayerNorm()\n",
              "            (dropout): Dropout(p=0.1, inplace=False)\n",
              "          )\n",
              "        )\n",
              "      )\n",
              "      (1-11): 11 x T5Block(\n",
              "        (layer): ModuleList(\n",
              "          (0): T5LayerSelfAttention(\n",
              "            (SelfAttention): T5Attention(\n",
              "              (q): Linear(in_features=768, out_features=768, bias=False)\n",
              "              (k): Linear(in_features=768, out_features=768, bias=False)\n",
              "              (v): Linear(in_features=768, out_features=768, bias=False)\n",
              "              (o): Linear(in_features=768, out_features=768, bias=False)\n",
              "            )\n",
              "            (layer_norm): T5LayerNorm()\n",
              "            (dropout): Dropout(p=0.1, inplace=False)\n",
              "          )\n",
              "          (1): T5LayerCrossAttention(\n",
              "            (EncDecAttention): T5Attention(\n",
              "              (q): Linear(in_features=768, out_features=768, bias=False)\n",
              "              (k): Linear(in_features=768, out_features=768, bias=False)\n",
              "              (v): Linear(in_features=768, out_features=768, bias=False)\n",
              "              (o): Linear(in_features=768, out_features=768, bias=False)\n",
              "            )\n",
              "            (layer_norm): T5LayerNorm()\n",
              "            (dropout): Dropout(p=0.1, inplace=False)\n",
              "          )\n",
              "          (2): T5LayerFF(\n",
              "            (DenseReluDense): T5DenseActDense(\n",
              "              (wi): Linear(in_features=768, out_features=3072, bias=False)\n",
              "              (wo): Linear(in_features=3072, out_features=768, bias=False)\n",
              "              (dropout): Dropout(p=0.1, inplace=False)\n",
              "              (act): ReLU()\n",
              "            )\n",
              "            (layer_norm): T5LayerNorm()\n",
              "            (dropout): Dropout(p=0.1, inplace=False)\n",
              "          )\n",
              "        )\n",
              "      )\n",
              "    )\n",
              "    (final_layer_norm): T5LayerNorm()\n",
              "    (dropout): Dropout(p=0.1, inplace=False)\n",
              "  )\n",
              "  (lm_head): Linear(in_features=768, out_features=32128, bias=False)\n",
              ")"
            ]
          },
          "metadata": {},
          "execution_count": 11
        }
      ]
    },
    {
      "cell_type": "code",
      "source": [
        "from datasets import load_dataset\n",
        "\n",
        "floorplan_dataset = load_dataset(data_args.datasets, data_args, split=data_args.train_split,\n",
        "                                  max_input_length=data_args.max_seq_length,\n",
        "                                  max_output_length=data_args.max_output_seq_length,\n",
        "                                  tokenizer=tokenizer, seed=1)"
      ],
      "metadata": {
        "id": "KvGaQXzRDOQp"
      },
      "execution_count": null,
      "outputs": []
    },
    {
      "cell_type": "code",
      "source": [
        "class MyDataset(torch.utils.data.Dataset):\n",
        "    def __init__(self, dataset, tokenizer, max_length=512):\n",
        "        self.dataset = dataset\n",
        "        self.tokenizer = tokenizer\n",
        "        self.max_length = max_length\n",
        "\n",
        "    def __len__(self):\n",
        "        return len(self.dataset)\n",
        "\n",
        "    def __getitem__(self, idx):\n",
        "        input_sentence = self.dataset[idx]['input_sentence']\n",
        "        output_sentence = self.dataset[idx]['output_sentence']\n",
        "        # num_room = torch.tensor(self.dataset[idx]['num_room'], dtype=torch.int64).to(device)\n",
        "        # reg_labels = torch.tensor(self.dataset[idx]['regression_label'], dtype=torch.int64).to(device)\n",
        "        input_ids = self.tokenizer(input_sentence, max_length=self.max_length, padding='max_length', truncation=True,\n",
        "                                   return_tensors='pt')['input_ids'].squeeze()\n",
        "        labels = self.tokenizer(output_sentence, max_length=self.max_length, padding='max_length', truncation=True,\n",
        "                                return_tensors='pt')['input_ids'].squeeze()\n",
        "        return {\n",
        "            'input_ids': input_ids,\n",
        "            # 'num_room': num_room,\n",
        "            # 'reg_labels': reg_labels,\n",
        "            'labels': labels\n",
        "        }"
      ],
      "metadata": {
        "id": "ahSTy8dVDP7J"
      },
      "execution_count": null,
      "outputs": []
    },
    {
      "cell_type": "code",
      "source": [
        "training_dataset = MyDataset(floorplan_dataset, tokenizer, max_length=512)"
      ],
      "metadata": {
        "id": "H-tNWt2MDR4x"
      },
      "execution_count": null,
      "outputs": []
    },
    {
      "cell_type": "code",
      "source": [
        "from torch.utils.data import random_split\n",
        "\n",
        "val_size = int(0.1 * len(training_dataset))\n",
        "train_size = len(training_dataset) - val_size\n",
        "\n",
        "train_dataset, val_dataset = random_split(training_dataset, [train_size, val_size])"
      ],
      "metadata": {
        "id": "JwTVFrQVDTmJ"
      },
      "execution_count": null,
      "outputs": []
    },
    {
      "cell_type": "code",
      "source": [
        "training_args = TrainingArguments(\n",
        "    output_dir='t5_finetune_wob_output',\n",
        "    overwrite_output_dir=True,\n",
        "    num_train_epochs=10,\n",
        "    per_device_train_batch_size=4,\n",
        "    per_device_eval_batch_size=4,\n",
        "    warmup_steps=100,\n",
        "    weight_decay=0.1,\n",
        "    # save_steps=1000,\n",
        "    save_total_limit=1,\n",
        "    logging_steps=100,\n",
        "    logging_dir='t5_finetune_wob_logs',\n",
        "    logging_first_step=True,\n",
        "    logging_strategy='steps',\n",
        "    evaluation_strategy='epoch',\n",
        "    save_strategy='epoch',\n",
        "    # eval_steps=1000,\n",
        "    report_to='tensorboard',\n",
        "    run_name='floorplan',\n",
        "    load_best_model_at_end=True,\n",
        ")"
      ],
      "metadata": {
        "id": "tmUPYrRyDU9C"
      },
      "execution_count": null,
      "outputs": []
    },
    {
      "cell_type": "code",
      "source": [
        "optimizer = Adam(model.parameters(), lr=5e-4, betas=(0.9, 0.999), eps=1e-08)"
      ],
      "metadata": {
        "id": "BiwLVfkpDW5Y"
      },
      "execution_count": null,
      "outputs": []
    },
    {
      "cell_type": "code",
      "source": [
        "trainer = Trainer(\n",
        "    model=model,\n",
        "    args=training_args,\n",
        "    data_collator=default_data_collator,\n",
        "    train_dataset=train_dataset, ####### training_dataset\n",
        "    eval_dataset=val_dataset,\n",
        "    optimizers=(optimizer, None),\n",
        "    callbacks=[EarlyStoppingCallback(early_stopping_patience=4)]\n",
        ")"
      ],
      "metadata": {
        "id": "k3mHAU37DYaR"
      },
      "execution_count": null,
      "outputs": []
    },
    {
      "cell_type": "code",
      "source": [
        "%load_ext tensorboard\n",
        "%tensorboard --logdir t5_finetune_wob_logs --reload_interval 30"
      ],
      "metadata": {
        "colab": {
          "base_uri": "https://localhost:8080/",
          "height": 35
        },
        "id": "IaUtBVMIDadh",
        "outputId": "6f51f92e-30d9-457b-dd9d-cf21809a2557"
      },
      "execution_count": null,
      "outputs": [
        {
          "output_type": "display_data",
          "data": {
            "text/plain": [
              "Launching TensorBoard..."
            ]
          },
          "metadata": {}
        }
      ]
    },
    {
      "cell_type": "code",
      "source": [
        "trainer.train()"
      ],
      "metadata": {
        "id": "scm6SaFCD6rs"
      },
      "execution_count": null,
      "outputs": []
    },
    {
      "cell_type": "code",
      "source": [
        "# Example usage\n",
        "input_sentence = \"Balcony 1 is about 8 foot X 2 foot.  This is located right off of the kitchen. Balcony 2 is about 10 foot X 3 foot.  This is facing north of the house. The bathroom is about 8 foot X 6 foot.  It is located between the living room and the kitchen. Common room 1 is about 10 foot X 12 foot.  The common rooms are located diagonal from each other. Common room 2 is about 10 foot X 10 foot.  The common rooms are located diagonal from each other. The kitchen is a 10 foot X 10 foot room.  It looks like it is opened up to the living room. The living room is located on the east side of the house.  It is shaped like a \\\"T\\\" and it's the biggest room.  It is approximately 14 feet X 32 feet.  Each room that you come out of you will enter the living room. The master is about 10 feet X 15 feet.  It is located far west of the house.It is a rectangle shape.\"\n",
        "input_ids = tokenizer(input_sentence, return_tensors=\"pt\").input_ids\n",
        "input_ids = input_ids.to(device)\n",
        "\n",
        "# Generate output\n",
        "output_ids = model.generate(input_ids, max_new_tokens=512)\n",
        "output_sentence = tokenizer.decode(output_ids[0], skip_special_tokens=True)\n",
        "print(\"Output sentence:\", output_sentence)"
      ],
      "metadata": {
        "id": "vdfxzH3gD9J0"
      },
      "execution_count": null,
      "outputs": []
    },
    {
      "cell_type": "code",
      "source": [
        "def generate_output_sentence(idx):\n",
        "    example = floorplan_dataset.get_example(idx)\n",
        "    input_sentence = ' '.join(example.tokens)\n",
        "    input_ids = tokenizer(input_sentence, return_tensors=\"pt\").input_ids.to(device)\n",
        "    output_ids = model.generate(input_ids, max_new_tokens=512)\n",
        "    output_sentence = tokenizer.decode(output_ids[0], skip_special_tokens=True)\n",
        "    return example, output_sentence, None\n",
        "\n",
        "random_idx = random.choice(range(len(floorplan_dataset)))\n",
        "example, output_sentence, predicted_index = generate_output_sentence(random_idx)\n",
        "print(floorplan_dataset.input_format.format_input(example, multitask=False))\n",
        "print(\"Output sentence:\", output_sentence)"
      ],
      "metadata": {
        "id": "r-YXciR7D-mP"
      },
      "execution_count": null,
      "outputs": []
    },
    {
      "cell_type": "code",
      "source": [
        "gt_boxes = defaultdict(list)\n",
        "for room in example.rooms:\n",
        "    gt_x, gt_y, gt_h, gt_w = room.x, room.y, room.h, room.w\n",
        "    gt_box = [\n",
        "        [int(gt_x - gt_h / 2), int(gt_y - gt_w / 2)], [int(gt_x + gt_h / 2), int(gt_y - gt_w / 2)],\n",
        "        [int(gt_x - gt_h / 2), int(gt_y + gt_w / 2)], [int(gt_x + gt_h / 2), int(gt_y + gt_w / 2)]\n",
        "    ]\n",
        "    gt_boxes[room.type] = gt_box\n",
        "\n",
        "\n",
        "res = floorplan_dataset.output_format.run_inference(example, output_sentence, predicted_index)\n",
        "predicted_rooms_by_name, predicted_rooms, raw_predicted_relations, wrong_reconstruction, format_error, label_error = res\n",
        "\n",
        "predicted_attribute = defaultdict()\n",
        "for attribute_tuple in raw_predicted_relations:\n",
        "    attribute_type, value, room_tuple, room_type = attribute_tuple\n",
        "    if room_type not in predicted_attribute:\n",
        "        predicted_attribute[room_type] = defaultdict()\n",
        "    try:\n",
        "        value = int(value)\n",
        "    except:\n",
        "        value = 128\n",
        "    predicted_attribute[room_type][attribute_type] = value\n",
        "\n",
        "# TODO: examine the predicted_attribute patterns\n",
        "correct_attributes = ['x coordinate', 'y coordinate', 'height', 'width']\n",
        "wrong_room = []\n",
        "for room_type in predicted_attribute:\n",
        "    if set(list(predicted_attribute[room_type].keys())) != set(correct_attributes):\n",
        "        print('wrong output format:')\n",
        "        print(predicted_attribute[room_type])\n",
        "        wrong_room.append(room_type)\n",
        "for wrong_r in wrong_room:\n",
        "    predicted_attribute.pop(wrong_r)\n",
        "\n",
        "all_gt_rooms = [room.type for room in example.rooms]\n",
        "predicted_boxes = defaultdict()\n",
        "for room in predicted_attribute:\n",
        "    predicted_boxes[room] = [\n",
        "        [int(predicted_attribute[room]['x coordinate'] - predicted_attribute[room]['height'] / 2),\n",
        "         int(predicted_attribute[room]['y coordinate'] - predicted_attribute[room]['width'] / 2)],\n",
        "        [int(predicted_attribute[room]['x coordinate'] + predicted_attribute[room]['height'] / 2),\n",
        "         int(predicted_attribute[room]['y coordinate'] - predicted_attribute[room]['width'] / 2)],\n",
        "        [int(predicted_attribute[room]['x coordinate'] - predicted_attribute[room]['height'] / 2),\n",
        "         int(predicted_attribute[room]['y coordinate'] + predicted_attribute[room]['width'] / 2)],\n",
        "        [int(predicted_attribute[room]['x coordinate'] + predicted_attribute[room]['height'] / 2),\n",
        "         int(predicted_attribute[room]['y coordinate'] + predicted_attribute[room]['width'] / 2)]\n",
        "    ]\n",
        "\n",
        "for room in gt_boxes:\n",
        "    y_min = gt_boxes[room][0][1]\n",
        "    x_min = gt_boxes[room][0][0]\n",
        "    y_max = gt_boxes[room][3][1]\n",
        "    x_max = gt_boxes[room][3][0]\n",
        "    gt_boxes[room] = (y_min, x_min, y_max, x_max)\n",
        "\n",
        "for room in predicted_boxes:\n",
        "    y_min = predicted_boxes[room][0][1]\n",
        "    x_min = predicted_boxes[room][0][0]\n",
        "    y_max = predicted_boxes[room][3][1]\n",
        "    x_max = predicted_boxes[room][3][0]\n",
        "    predicted_boxes[room] = (y_min, x_min, y_max, x_max)\n",
        "\n",
        "def render_image_(example, predicted_boxes, all_gt_rooms, gt_boxes):\n",
        "    image_height = 256\n",
        "    image_width = 256\n",
        "    number_of_color_channels = 3\n",
        "    background_color = (255, 255, 255)\n",
        "    gt_image = np.full((image_height, image_width, number_of_color_channels), background_color, dtype=np.uint8)\n",
        "    predicted_image = np.full((image_height, image_width, number_of_color_channels), background_color, dtype=np.uint8)\n",
        "    boundary_color = [0, 0, 0]\n",
        "\n",
        "    left_boundary = int(example.boundary_tokens[1])\n",
        "\n",
        "    living = defaultdict()\n",
        "    common = defaultdict()\n",
        "    master = defaultdict()\n",
        "    balcony = defaultdict()\n",
        "    bathroom = defaultdict()\n",
        "    kitchen = defaultdict()\n",
        "    storage = defaultdict()\n",
        "    dining = defaultdict()\n",
        "    for room in predicted_boxes:\n",
        "        if room.startswith('living'):\n",
        "            living[room] = predicted_boxes[room]\n",
        "        elif room.startswith('common'):\n",
        "            common[room] = predicted_boxes[room]\n",
        "        elif room.startswith('master'):\n",
        "            master[room] = predicted_boxes[room]\n",
        "        elif room.startswith('balcony'):\n",
        "            balcony[room] = predicted_boxes[room]\n",
        "        elif room.startswith('bathroom'):\n",
        "            bathroom[room] = predicted_boxes[room]\n",
        "        elif room.startswith('kitchen'):\n",
        "            kitchen[room] = predicted_boxes[room]\n",
        "        elif room.startswith('storage'):\n",
        "            storage[room] = predicted_boxes[room]\n",
        "        elif room.startswith('dining'):\n",
        "            dining[room] = predicted_boxes[room]\n",
        "    room_type_list = [living, common, master, balcony, bathroom, kitchen, storage, dining]\n",
        "    for room_type in room_type_list:\n",
        "        for room in room_type:\n",
        "            left_top_pr = (room_type[room][0], room_type[room][1])\n",
        "            right_bt_pr = (room_type[room][2], room_type[room][3])\n",
        "\n",
        "            color = color_idx[room_idx[room]]\n",
        "            # draw room on predicted image\n",
        "            cv2.rectangle(predicted_image, left_top_pr, right_bt_pr, color, -1)\n",
        "\n",
        "    for boundary_pixel in example.boundary:\n",
        "        predicted_image[boundary_pixel[0], boundary_pixel[1]] = boundary_color\n",
        "\n",
        "    return predicted_image"
      ],
      "metadata": {
        "id": "a7LvOS0dEA3g"
      },
      "execution_count": null,
      "outputs": []
    },
    {
      "cell_type": "code",
      "source": [
        "pre_image = render_image_(example, gt_boxes, all_gt_rooms, gt_boxes)"
      ],
      "metadata": {
        "id": "toPXyzyqECwY"
      },
      "execution_count": null,
      "outputs": []
    },
    {
      "cell_type": "code",
      "source": [
        "import matplotlib.patches as mpatches\n",
        "\n",
        "\n",
        "def render_image_with_legend(example, predicted_boxes, all_gt_rooms, gt_boxes):\n",
        "    # Render the image as before\n",
        "    image = render_image_(example, predicted_boxes, all_gt_rooms, gt_boxes)\n",
        "\n",
        "    # Create a figure and a set of subplots\n",
        "    fig, ax = plt.subplots()\n",
        "\n",
        "    # Display the image\n",
        "    ax.imshow(image)\n",
        "\n",
        "    # Add direction labels for the entire floor plan\n",
        "    plt.text(0.5, 0.02, \"South\", fontsize=10, ha='center', va='bottom', color='red', transform=plt.gca().transAxes)\n",
        "    plt.text(0.5, 0.98, \"North\", fontsize=10, ha='center', va='top', color='red', transform=plt.gca().transAxes)\n",
        "    plt.text(0.02, 0.5, \"West\", fontsize=10, ha='left', va='center', color='red', transform=plt.gca().transAxes)\n",
        "    plt.text(0.98, 0.5, \"East\", fontsize=10, ha='right', va='center', color='red', transform=plt.gca().transAxes)\n",
        "\n",
        "    # Create a legend\n",
        "    patches = [mpatches.Patch(color=np.array(color_idx[room_idx[room]]) / 255., label=room) for room in all_gt_rooms]\n",
        "    plt.legend(handles=patches, bbox_to_anchor=(1.05, 1), loc='upper left', borderaxespad=0.)\n",
        "\n",
        "    # Show the plot\n",
        "    plt.show()"
      ],
      "metadata": {
        "id": "Q8gsilqiEEHZ"
      },
      "execution_count": null,
      "outputs": []
    },
    {
      "cell_type": "code",
      "source": [
        "render_image_with_legend(example, gt_boxes, all_gt_rooms, gt_boxes)"
      ],
      "metadata": {
        "id": "CrjQBAXbEFxR"
      },
      "execution_count": null,
      "outputs": []
    },
    {
      "cell_type": "code",
      "source": [
        "render_image_with_legend(example, predicted_boxes, all_gt_rooms, gt_boxes)"
      ],
      "metadata": {
        "id": "SPalpzxoEHqw"
      },
      "execution_count": null,
      "outputs": []
    },
    {
      "cell_type": "code",
      "source": [
        "!zip -r t5_finetune_wob_output.zip t5_finetune_wob_output\n",
        "!zip -r t5_finetune_wob_logs.zip t5_finetune_wob_logs"
      ],
      "metadata": {
        "id": "wjJltNsbEJL5"
      },
      "execution_count": null,
      "outputs": []
    },
    {
      "cell_type": "code",
      "source": [
        "%cd .."
      ],
      "metadata": {
        "id": "rEnRyzpoEPVo"
      },
      "execution_count": null,
      "outputs": []
    },
    {
      "cell_type": "code",
      "source": [
        "!cp /content/t2f/t5_finetune2_wob_output.zip /content/drive/MyDrive/\n",
        "!cp /content/t2f/t5_finetune2_wob_logs.zip /content/drive/MyDrive/"
      ],
      "metadata": {
        "id": "T4IDIwo3ESmR"
      },
      "execution_count": null,
      "outputs": []
    },
    {
      "cell_type": "code",
      "source": [
        "from google.colab import runtime\n",
        "runtime.unassign()"
      ],
      "metadata": {
        "id": "oTm0TzI_EUOh"
      },
      "execution_count": null,
      "outputs": []
    }
  ]
}